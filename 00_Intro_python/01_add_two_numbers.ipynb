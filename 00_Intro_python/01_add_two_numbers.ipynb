{
  "nbformat": 4,
  "nbformat_minor": 0,
  "metadata": {
    "colab": {
      "provenance": [],
      "authorship_tag": "ABX9TyMrnkPX6Hm6wZr0iQDi9T2t",
      "include_colab_link": true
    },
    "kernelspec": {
      "name": "python3",
      "display_name": "Python 3"
    },
    "language_info": {
      "name": "python"
    }
  },
  "cells": [
    {
      "cell_type": "markdown",
      "metadata": {
        "id": "view-in-github",
        "colab_type": "text"
      },
      "source": [
        "<a href=\"https://colab.research.google.com/github/Sabariaz123456/Assignment_4_Saba_Muhammad_Riaz/blob/main/00_Intro_python/01_add_two_numbers.ipynb\" target=\"_parent\"><img src=\"https://colab.research.google.com/assets/colab-badge.svg\" alt=\"Open In Colab\"/></a>"
      ]
    },
    {
      "cell_type": "markdown",
      "source": [
        "# **01_add_two_numbers**"
      ],
      "metadata": {
        "id": "Jr3xYuWARmES"
      }
    },
    {
      "cell_type": "code",
      "source": [
        "\"\"\"\n",
        "Program: add2numbers\n",
        "--------------------\n",
        "Another Python program to get some practice with\n",
        "variables. This program asks the user for two\n",
        "integers and prints their sum.\n",
        "\"\"\"\n",
        "\n",
        "def main():\n",
        "    # Display the purpose of the program\n",
        "    print(\"This program adds two numbers.\")\n",
        "\n",
        "    # Prompt the user to enter the first number and convert it to an integer\n",
        "    num1: str = input(\"Enter first number: \")\n",
        "    num1: int = int(num1)\n",
        "\n",
        "    # Prompt the user to enter the second number and convert it to an integer\n",
        "    num2: str = input(\"Enter second number: \")\n",
        "    num2: int = int(num2)\n",
        "\n",
        "    # Calculate the sum of the two numbers\n",
        "    total: int = num1 + num2\n",
        "\n",
        "    # Display the result\n",
        "    print(\"The total is \" + str(total) + \".\")\n",
        "\n",
        "# This ensures the script runs only when executed directly, not when imported\n",
        "if __name__ == '__main__':\n",
        "    main()\n"
      ],
      "metadata": {
        "colab": {
          "base_uri": "https://localhost:8080/"
        },
        "id": "ikfJZvsURoOD",
        "outputId": "8328eea4-1401-4497-97fe-4a6b7b28602c"
      },
      "execution_count": 1,
      "outputs": [
        {
          "output_type": "stream",
          "name": "stdout",
          "text": [
            "This program adds two numbers.\n",
            "Enter first number: 77\n",
            "Enter second number: 88\n",
            "The total is 165.\n"
          ]
        }
      ]
    }
  ]
}