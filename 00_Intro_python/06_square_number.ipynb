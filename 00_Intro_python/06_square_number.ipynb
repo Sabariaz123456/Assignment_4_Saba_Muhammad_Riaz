{
  "nbformat": 4,
  "nbformat_minor": 0,
  "metadata": {
    "colab": {
      "provenance": [],
      "authorship_tag": "ABX9TyP0JmneCiy9PoGFCrTdFUu8",
      "include_colab_link": true
    },
    "kernelspec": {
      "name": "python3",
      "display_name": "Python 3"
    },
    "language_info": {
      "name": "python"
    }
  },
  "cells": [
    {
      "cell_type": "markdown",
      "metadata": {
        "id": "view-in-github",
        "colab_type": "text"
      },
      "source": [
        "<a href=\"https://colab.research.google.com/github/Sabariaz123456/Assignment_4_Saba_Muhammad_Riaz/blob/main/00_Intro_python/06_square_number.ipynb\" target=\"_parent\"><img src=\"https://colab.research.google.com/assets/colab-badge.svg\" alt=\"Open In Colab\"/></a>"
      ]
    },
    {
      "cell_type": "markdown",
      "source": [
        "# **06_square_number**"
      ],
      "metadata": {
        "id": "juvS2Pi8Zu4K"
      }
    },
    {
      "cell_type": "code",
      "execution_count": 1,
      "metadata": {
        "colab": {
          "base_uri": "https://localhost:8080/"
        },
        "id": "uGqsyqjnZrBi",
        "outputId": "c9eab0c9-cfb9-4eaa-e053-0b8849ed02a4"
      },
      "outputs": [
        {
          "output_type": "stream",
          "name": "stdout",
          "text": [
            "Type a number to see its square : 6\n",
            "6.0 is squared 36.0\n"
          ]
        }
      ],
      "source": [
        "def main():\n",
        "   ## Ask the user for a number\n",
        "   number = float(input(\"Type a number to see its square : \"))\n",
        "\n",
        "# Calculate the square of the number\n",
        "   square = number * number\n",
        "\n",
        "    # Print the square of the number\n",
        "   print(f\"{number} is squared {square}\")\n",
        "\n",
        "# Call the main function\n",
        "if __name__ == \"__main__\":\n",
        "    main()"
      ]
    }
  ]
}