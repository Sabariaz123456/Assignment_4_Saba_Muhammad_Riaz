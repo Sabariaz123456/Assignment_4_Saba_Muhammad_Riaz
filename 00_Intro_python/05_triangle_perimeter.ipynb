{
  "nbformat": 4,
  "nbformat_minor": 0,
  "metadata": {
    "colab": {
      "provenance": [],
      "authorship_tag": "ABX9TyOXGvsuUMFwN52bYOuat+2k",
      "include_colab_link": true
    },
    "kernelspec": {
      "name": "python3",
      "display_name": "Python 3"
    },
    "language_info": {
      "name": "python"
    }
  },
  "cells": [
    {
      "cell_type": "markdown",
      "metadata": {
        "id": "view-in-github",
        "colab_type": "text"
      },
      "source": [
        "<a href=\"https://colab.research.google.com/github/Sabariaz123456/Assignment_4_Saba_Muhammad_Riaz/blob/main/00_Intro_python/05_triangle_perimeter.ipynb\" target=\"_parent\"><img src=\"https://colab.research.google.com/assets/colab-badge.svg\" alt=\"Open In Colab\"/></a>"
      ]
    },
    {
      "cell_type": "markdown",
      "source": [
        "# **05_triangle_perimeter**"
      ],
      "metadata": {
        "id": "DxtnukuhZROE"
      }
    },
    {
      "cell_type": "code",
      "execution_count": 1,
      "metadata": {
        "colab": {
          "base_uri": "https://localhost:8080/"
        },
        "id": "LiSyyz0MY_xO",
        "outputId": "ca9170fa-59d5-4483-98f4-ae6443d62c42"
      },
      "outputs": [
        {
          "output_type": "stream",
          "name": "stdout",
          "text": [
            "Enter the length of side 1: 6\n",
            "Enter the length of side 2: 7\n",
            "Enter the length of side 3: 8\n",
            "\n",
            "The perimeter of the triangle is: 21.00\n"
          ]
        }
      ],
      "source": [
        "\"\"\"\n",
        "Program: Triangle Perimeter Calculator\n",
        "--------------------------------------\n",
        "This program calculates the perimeter of a triangle.\n",
        "The user is prompted to enter the lengths of its three sides,\n",
        "and the program computes and displays the perimeter.\n",
        "\"\"\"\n",
        "\n",
        "def main():\n",
        "    # Prompt the user to enter the three side lengths of the triangle\n",
        "    side1: float = float(input(\"Enter the length of side 1: \"))\n",
        "    side2: float = float(input(\"Enter the length of side 2: \"))\n",
        "    side3: float = float(input(\"Enter the length of side 3: \"))\n",
        "\n",
        "    # Calculate the perimeter of the triangle\n",
        "    perimeter: float = side1 + side2 + side3\n",
        "\n",
        "    # Print the calculated perimeter with better formatting\n",
        "    print(f\"\\nThe perimeter of the triangle is: {perimeter:.2f}\")\n",
        "\n",
        "# Ensures the script runs only when executed directly\n",
        "if __name__ == \"__main__\":\n",
        "    main()\n",
        "\n"
      ]
    }
  ]
}