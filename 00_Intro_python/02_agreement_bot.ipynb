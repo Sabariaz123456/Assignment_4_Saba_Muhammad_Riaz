{
  "nbformat": 4,
  "nbformat_minor": 0,
  "metadata": {
    "colab": {
      "provenance": [],
      "authorship_tag": "ABX9TyNepZ6mM5uOYElGq3PtJOpk",
      "include_colab_link": true
    },
    "kernelspec": {
      "name": "python3",
      "display_name": "Python 3"
    },
    "language_info": {
      "name": "python"
    }
  },
  "cells": [
    {
      "cell_type": "markdown",
      "metadata": {
        "id": "view-in-github",
        "colab_type": "text"
      },
      "source": [
        "<a href=\"https://colab.research.google.com/github/Sabariaz123456/Assignment_4_Saba_Muhammad_Riaz/blob/main/00_Intro_python/02_agreement_bot.ipynb\" target=\"_parent\"><img src=\"https://colab.research.google.com/assets/colab-badge.svg\" alt=\"Open In Colab\"/></a>"
      ]
    },
    {
      "cell_type": "markdown",
      "source": [
        "# **02_agreement_bot**"
      ],
      "metadata": {
        "id": "3nMJqV4bWJbk"
      }
    },
    {
      "cell_type": "code",
      "execution_count": 2,
      "metadata": {
        "colab": {
          "base_uri": "https://localhost:8080/"
        },
        "id": "WXU_wBUmV7H3",
        "outputId": "f044af3f-926d-43b2-ea56-a87a8f7ca4af"
      },
      "outputs": [
        {
          "output_type": "stream",
          "name": "stdout",
          "text": [
            "What's your favorite animal? Lion\n",
            "My favorite animal is also Lion!\n"
          ]
        }
      ],
      "source": [
        "def main():\n",
        "    # Prompt the user to enter their favorite animal\n",
        "    favorite_animal = input(\"What's your favorite animal? \")\n",
        "\n",
        "    # Print a message including the user's input\n",
        "    print(f\"My favorite animal is also {favorite_animal}!\")\n",
        "\n",
        "# Ensures the script runs only when executed directly, not when imported\n",
        "if __name__ == \"__main__\":\n",
        "    main()"
      ]
    }
  ]
}