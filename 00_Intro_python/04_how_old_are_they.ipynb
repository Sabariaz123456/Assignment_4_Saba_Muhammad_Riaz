{
  "nbformat": 4,
  "nbformat_minor": 0,
  "metadata": {
    "colab": {
      "provenance": [],
      "authorship_tag": "ABX9TyNvZhnOTnn/3XQoYZgaeNSM",
      "include_colab_link": true
    },
    "kernelspec": {
      "name": "python3",
      "display_name": "Python 3"
    },
    "language_info": {
      "name": "python"
    }
  },
  "cells": [
    {
      "cell_type": "markdown",
      "metadata": {
        "id": "view-in-github",
        "colab_type": "text"
      },
      "source": [
        "<a href=\"https://colab.research.google.com/github/Sabariaz123456/Assignment_4_Saba_Muhammad_Riaz/blob/main/00_Intro_python/04_how_old_are_they.ipynb\" target=\"_parent\"><img src=\"https://colab.research.google.com/assets/colab-badge.svg\" alt=\"Open In Colab\"/></a>"
      ]
    },
    {
      "cell_type": "markdown",
      "source": [
        "# **04_how_old_are_they**"
      ],
      "metadata": {
        "id": "vXo7HzKbYYuQ"
      }
    },
    {
      "cell_type": "code",
      "execution_count": 1,
      "metadata": {
        "colab": {
          "base_uri": "https://localhost:8080/"
        },
        "id": "aQf-YUssYQpd",
        "outputId": "7e2c4c38-b556-457c-821c-0c241a4ead77"
      },
      "outputs": [
        {
          "output_type": "stream",
          "name": "stdout",
          "text": [
            "Anton is 21 years old.\n",
            "Beth is 27 years old.\n",
            "Chen is 47 years old.\n",
            "Drew is 68 years old.\n",
            "Ethan is 47 years old.\n"
          ]
        }
      ],
      "source": [
        "\"\"\"\n",
        "Program: Age Calculation\n",
        "------------------------\n",
        "This program calculates the ages of five individuals based on a given relationship.\n",
        "It starts with Anton's age and derives the others accordingly.\n",
        "\"\"\"\n",
        "\n",
        "def main():\n",
        "    # Define Anton's age\n",
        "    Anton_age: int = 21\n",
        "\n",
        "    # Calculate ages based on given relationships\n",
        "    Beth_age: int = Anton_age + 6    # Beth is 6 years older than Anton\n",
        "    Chen_age: int = Beth_age + 20    # Chen is 20 years older than Beth\n",
        "    Drew_age: int = Chen_age + Anton_age  # Drew's age is the sum of Chen's and Anton's age\n",
        "    Ethan_age: int = Chen_age        # Ethan's age is the same as Chen's\n",
        "\n",
        "    # Print the calculated ages\n",
        "    print(f\"Anton is {Anton_age} years old.\")\n",
        "    print(f\"Beth is {Beth_age} years old.\")\n",
        "    print(f\"Chen is {Chen_age} years old.\")\n",
        "    print(f\"Drew is {Drew_age} years old.\")\n",
        "    print(f\"Ethan is {Ethan_age} years old.\")\n",
        "\n",
        "# Corrected the if statement syntax\n",
        "if __name__ == \"__main__\":\n",
        "    main()\n"
      ]
    }
  ]
}