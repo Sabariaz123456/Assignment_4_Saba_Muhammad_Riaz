{
  "nbformat": 4,
  "nbformat_minor": 0,
  "metadata": {
    "colab": {
      "provenance": [],
      "authorship_tag": "ABX9TyNqW/q8Luiu7eyR8opzb0CX",
      "include_colab_link": true
    },
    "kernelspec": {
      "name": "python3",
      "display_name": "Python 3"
    },
    "language_info": {
      "name": "python"
    }
  },
  "cells": [
    {
      "cell_type": "markdown",
      "metadata": {
        "id": "view-in-github",
        "colab_type": "text"
      },
      "source": [
        "<a href=\"https://colab.research.google.com/github/Sabariaz123456/Assignment_4_Saba_Muhammad_Riaz/blob/main/00_Intro_python/03_fahrenheit_to_celsius.ipynb\" target=\"_parent\"><img src=\"https://colab.research.google.com/assets/colab-badge.svg\" alt=\"Open In Colab\"/></a>"
      ]
    },
    {
      "cell_type": "markdown",
      "source": [
        "# **03_fahrenheit_to_celsius**"
      ],
      "metadata": {
        "id": "Mjiuu8abXHR5"
      }
    },
    {
      "cell_type": "code",
      "execution_count": 1,
      "metadata": {
        "id": "ydSsgIFRXB9Z",
        "colab": {
          "base_uri": "https://localhost:8080/"
        },
        "outputId": "08829543-8922-40a1-de27-183a8013108e"
      },
      "outputs": [
        {
          "output_type": "stream",
          "name": "stdout",
          "text": [
            "Enter temperature in Fahrenheit: 5\n",
            "Temperature 5.0°F = -15.00°C\n"
          ]
        }
      ],
      "source": [
        "\"\"\"\n",
        "Program: Fahrenheit to Celsius Converter\n",
        "----------------------------------------\n",
        "This program converts a temperature from Fahrenheit to Celsius.\n",
        "The user inputs a temperature in Fahrenheit, and the program\n",
        "calculates and displays the equivalent temperature in Celsius.\n",
        "\"\"\"\n",
        "\n",
        "def main():\n",
        "    # Prompt the user to enter temperature in Fahrenheit and convert it to float\n",
        "    degrees_fahrenheit: float = float(input(\"Enter temperature in Fahrenheit: \"))\n",
        "\n",
        "    # Convert Fahrenheit to Celsius using the formula\n",
        "    degrees_celsius: float = (degrees_fahrenheit - 32) * 5.0 / 9.0\n",
        "\n",
        "    # Display the result with proper formatting\n",
        "    print(f\"Temperature {degrees_fahrenheit}°F = {degrees_celsius:.2f}°C\")\n",
        "\n",
        "# Ensures the script runs only when executed directly\n",
        "if __name__ == \"__main__\":\n",
        "    main()"
      ]
    }
  ]
}