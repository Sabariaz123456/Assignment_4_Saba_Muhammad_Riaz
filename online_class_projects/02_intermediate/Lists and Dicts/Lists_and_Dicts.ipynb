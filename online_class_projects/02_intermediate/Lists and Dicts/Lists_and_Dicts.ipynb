{
  "nbformat": 4,
  "nbformat_minor": 0,
  "metadata": {
    "colab": {
      "provenance": [],
      "authorship_tag": "ABX9TyNhmJXZuf+jVJyEsb/YthuE",
      "include_colab_link": true
    },
    "kernelspec": {
      "name": "python3",
      "display_name": "Python 3"
    },
    "language_info": {
      "name": "python"
    }
  },
  "cells": [
    {
      "cell_type": "markdown",
      "metadata": {
        "id": "view-in-github",
        "colab_type": "text"
      },
      "source": [
        "<a href=\"https://colab.research.google.com/github/Sabariaz123456/Assignment_4_Saba_Muhammad_Riaz/blob/main/online_class_projects/02_intermediate/Lists%20and%20Dicts/Lists_and_Dicts.ipynb\" target=\"_parent\"><img src=\"https://colab.research.google.com/assets/colab-badge.svg\" alt=\"Open In Colab\"/></a>"
      ]
    },
    {
      "cell_type": "code",
      "execution_count": null,
      "metadata": {
        "colab": {
          "base_uri": "https://localhost:8080/"
        },
        "id": "N49Vaky5mirL",
        "outputId": "8c6a780d-610c-40d6-e139-d1c9a23225d7"
      },
      "outputs": [
        {
          "output_type": "stream",
          "name": "stdout",
          "text": [
            "Length of the list: 5\n",
            "Updated list: ['apple', 'banana', 'orange', 'grape', 'pineapple', 'mango']\n",
            "\n",
            "Current List: [10, 20, 30, 'apple', 'banana']\n",
            "Choose an operation:\n",
            "1. Access an element\n",
            "2. Modify an element\n",
            "3. Slice the list\n",
            "4. Exit\n",
            "Enter your choice: 1\n",
            "Enter the index: 4\n",
            "Result: banana\n",
            "\n",
            "Current List: [10, 20, 30, 'apple', 'banana']\n",
            "Choose an operation:\n",
            "1. Access an element\n",
            "2. Modify an element\n",
            "3. Slice the list\n",
            "4. Exit\n",
            "Enter your choice: 30\n",
            "Invalid choice. Please try again.\n",
            "\n",
            "Current List: [10, 20, 30, 'apple', 'banana']\n",
            "Choose an operation:\n",
            "1. Access an element\n",
            "2. Modify an element\n",
            "3. Slice the list\n",
            "4. Exit\n",
            "Enter your choice: banana\n",
            "Invalid choice. Please try again.\n",
            "\n",
            "Current List: [10, 20, 30, 'apple', 'banana']\n",
            "Choose an operation:\n",
            "1. Access an element\n",
            "2. Modify an element\n",
            "3. Slice the list\n",
            "4. Exit\n"
          ]
        }
      ],
      "source": [
        "def main():\n",
        "    # Problem #1: List Practice\n",
        "    fruit_list = ['apple', 'banana', 'orange', 'grape', 'pineapple']\n",
        "\n",
        "    # Print the length of the list\n",
        "    print(\"Length of the list:\", len(fruit_list))\n",
        "\n",
        "    # Add 'mango' at the end of the list\n",
        "    fruit_list.append('mango')\n",
        "\n",
        "    # Print the updated list\n",
        "    print(\"Updated list:\", fruit_list)\n",
        "\n",
        "def access_element(lst, index):\n",
        "    try:\n",
        "        return lst[index]\n",
        "    except IndexError:\n",
        "        return \"Index out of range.\"\n",
        "\n",
        "def modify_element(lst, index, new_value):\n",
        "    try:\n",
        "        lst[index] = new_value\n",
        "        return \"Element updated successfully.\"\n",
        "    except IndexError:\n",
        "        return \"Index out of range.\"\n",
        "\n",
        "def slice_list(lst, start, end):\n",
        "    return lst[start:end]\n",
        "\n",
        "def index_game():\n",
        "    elements = [10, 20, 30, \"apple\", \"banana\"]\n",
        "\n",
        "    while True:\n",
        "        print(\"\\nCurrent List:\", elements)\n",
        "        print(\"Choose an operation:\")\n",
        "        print(\"1. Access an element\")\n",
        "        print(\"2. Modify an element\")\n",
        "        print(\"3. Slice the list\")\n",
        "        print(\"4. Exit\")\n",
        "\n",
        "        choice = input(\"Enter your choice: \")\n",
        "\n",
        "        if choice == '1':\n",
        "            index = int(input(\"Enter the index: \"))\n",
        "            print(\"Result:\", access_element(elements, index))\n",
        "        elif choice == '2':\n",
        "            index = int(input(\"Enter the index: \"))\n",
        "            new_value = input(\"Enter the new value: \")\n",
        "            print(modify_element(elements, index, new_value))\n",
        "        elif choice == '3':\n",
        "            start = int(input(\"Enter start index: \"))\n",
        "            end = int(input(\"Enter end index: \"))\n",
        "            print(\"Sliced List:\", slice_list(elements, start, end))\n",
        "        elif choice == '4':\n",
        "            print(\"Exiting the game.\")\n",
        "            break\n",
        "        else:\n",
        "            print(\"Invalid choice. Please try again.\")\n",
        "\n",
        "if __name__ == \"__main__\":\n",
        "    main()\n",
        "    index_game()\n"
      ]
    }
  ]
}