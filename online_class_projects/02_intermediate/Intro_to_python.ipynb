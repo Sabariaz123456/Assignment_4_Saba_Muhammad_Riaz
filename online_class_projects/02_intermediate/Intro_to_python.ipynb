{
  "nbformat": 4,
  "nbformat_minor": 0,
  "metadata": {
    "colab": {
      "provenance": [],
      "authorship_tag": "ABX9TyP9Jg6uXyIYr+IONwpy5MRw",
      "include_colab_link": true
    },
    "kernelspec": {
      "name": "python3",
      "display_name": "Python 3"
    },
    "language_info": {
      "name": "python"
    }
  },
  "cells": [
    {
      "cell_type": "markdown",
      "metadata": {
        "id": "view-in-github",
        "colab_type": "text"
      },
      "source": [
        "<a href=\"https://colab.research.google.com/github/Sabariaz123456/Assignment_4_Saba_Muhammad_Riaz/blob/main/online_class_projects/02_intermediate/Intro_to_python.ipynb\" target=\"_parent\"><img src=\"https://colab.research.google.com/assets/colab-badge.svg\" alt=\"Open In Colab\"/></a>"
      ]
    },
    {
      "cell_type": "code",
      "execution_count": 5,
      "metadata": {
        "colab": {
          "base_uri": "https://localhost:8080/"
        },
        "id": "eP1RcRYxjNgU",
        "outputId": "243553b0-801c-45ac-cd9c-c4c4ddd6695c"
      },
      "outputs": [
        {
          "output_type": "stream",
          "name": "stdout",
          "text": [
            "Do you want to calculate weight for Mars or another planet? (Mars/Other): mars\n",
            "Enter a weight on Earth: 500\n",
            "The equivalent on Mars: 189.0\n"
          ]
        }
      ],
      "source": [
        "# Planetary Weight Calculator\n",
        "# This program calculates a person's weight on different planets based on gravitational differences.\n",
        "# The user can choose to calculate their weight on Mars specifically or on any other planet.\n",
        "\n",
        "# Milestone #1: Mars Weight\n",
        "# Mars has a gravitational pull that is 37.8% of Earth's gravity.\n",
        "# We define a constant MARS_MULTIPLE to store this value.\n",
        "\n",
        "MARS_MULTIPLE = 0.378\n",
        "\n",
        "def mars_weight():\n",
        "    \"\"\"Prompts the user for their weight on Earth and calculates the equivalent weight on Mars.\"\"\"\n",
        "    earth_weight = float(input(\"Enter a weight on Earth: \"))  # Get the user's weight on Earth\n",
        "    mars_weight = round(earth_weight * MARS_MULTIPLE, 2)  # Calculate weight on Mars\n",
        "    print(f\"The equivalent on Mars: {mars_weight}\")  # Display result\n",
        "\n",
        "# Milestone #2: Adding in All Planets\n",
        "# Defining gravitational constants for each planet relative to Earth's gravity\n",
        "MERCURY_GRAVITY = 0.376\n",
        "VENUS_GRAVITY = 0.889\n",
        "MARS_GRAVITY = 0.378\n",
        "JUPITER_GRAVITY = 2.36\n",
        "SATURN_GRAVITY = 1.081\n",
        "URANUS_GRAVITY = 0.815\n",
        "NEPTUNE_GRAVITY = 1.14\n",
        "\n",
        "def planetary_weight():\n",
        "    \"\"\"Prompts the user for their weight on Earth and a planet name, then calculates equivalent weight.\"\"\"\n",
        "    earth_weight = float(input(\"Enter a weight on Earth: \"))  # Get the user's weight on Earth\n",
        "    planet = input(\"Enter a planet: \")  # Get the target planet name\n",
        "\n",
        "    gravity_factors = {\n",
        "        \"Mercury\": MERCURY_GRAVITY,\n",
        "        \"Venus\": VENUS_GRAVITY,\n",
        "        \"Mars\": MARS_GRAVITY,\n",
        "        \"Jupiter\": JUPITER_GRAVITY,\n",
        "        \"Saturn\": SATURN_GRAVITY,\n",
        "        \"Uranus\": URANUS_GRAVITY,\n",
        "        \"Neptune\": NEPTUNE_GRAVITY\n",
        "    }\n",
        "\n",
        "    if planet in gravity_factors:\n",
        "        planetary_weight = round(earth_weight * gravity_factors[planet], 2)  # Calculate weight on chosen planet\n",
        "        print(f\"The equivalent weight on {planet}: {planetary_weight}\")  # Display result\n",
        "    else:\n",
        "        print(\"Invalid planet name. Please enter a valid planet.\")  # Handle invalid input\n",
        "\n",
        "def main():\n",
        "    \"\"\"Main function to ask user whether they want to calculate weight for Mars or another planet.\"\"\"\n",
        "    choice = input(\"Do you want to calculate weight for Mars or another planet? (Mars/Other): \").strip()\n",
        "    if choice.lower() == \"mars\":\n",
        "        mars_weight()\n",
        "    else:\n",
        "        planetary_weight()\n",
        "\n",
        "# Entry point of the program\n",
        "if __name__ == \"__main__\":\n",
        "    main()\n",
        "\n",
        "\n"
      ]
    }
  ]
}