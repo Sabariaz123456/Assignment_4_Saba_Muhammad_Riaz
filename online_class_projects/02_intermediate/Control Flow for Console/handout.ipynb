{
  "nbformat": 4,
  "nbformat_minor": 0,
  "metadata": {
    "colab": {
      "provenance": [],
      "authorship_tag": "ABX9TyM8kJWfFxYUO+yra8C4c8m/",
      "include_colab_link": true
    },
    "kernelspec": {
      "name": "python3",
      "display_name": "Python 3"
    },
    "language_info": {
      "name": "python"
    }
  },
  "cells": [
    {
      "cell_type": "markdown",
      "metadata": {
        "id": "view-in-github",
        "colab_type": "text"
      },
      "source": [
        "<a href=\"https://colab.research.google.com/github/Sabariaz123456/Assignment_4_Saba_Muhammad_Riaz/blob/main/online_class_projects/02_intermediate/Control%20Flow%20for%20Console/handout.ipynb\" target=\"_parent\"><img src=\"https://colab.research.google.com/assets/colab-badge.svg\" alt=\"Open In Colab\"/></a>"
      ]
    },
    {
      "cell_type": "markdown",
      "source": [
        "# **handout**"
      ],
      "metadata": {
        "id": "SDHYECt5cOb2"
      }
    },
    {
      "cell_type": "code",
      "execution_count": 1,
      "metadata": {
        "colab": {
          "base_uri": "https://localhost:8080/"
        },
        "id": "esiusx9RcJs_",
        "outputId": "79f77afc-50ec-4c94-822a-45d8f69bbfaa"
      },
      "outputs": [
        {
          "output_type": "stream",
          "name": "stdout",
          "text": [
            "Welcome to the High-Low Game!\n",
            "--------------------------------\n",
            "Round 1\n",
            "Your number is 97\n",
            "Do you think your number is higher or lower than the computer's?: 55\n",
            "Please enter either 'higher' or 'lower': lower\n",
            "Aww, that's incorrect. The computer's number was 58\n",
            "Your score is now 0\n",
            "\n",
            "Round 2\n",
            "Your number is 1\n",
            "Do you think your number is higher or lower than the computer's?: lower\n",
            "You were right! The computer's number was 40\n",
            "Your score is now 1\n",
            "\n",
            "Round 3\n",
            "Your number is 4\n",
            "Do you think your number is higher or lower than the computer's?: higher\n",
            "Aww, that's incorrect. The computer's number was 13\n",
            "Your score is now 1\n",
            "\n",
            "Round 4\n",
            "Your number is 67\n",
            "Do you think your number is higher or lower than the computer's?: higher\n",
            "You were right! The computer's number was 52\n",
            "Your score is now 2\n",
            "\n",
            "Round 5\n",
            "Your number is 98\n",
            "Do you think your number is higher or lower than the computer's?: lower\n",
            "Aww, that's incorrect. The computer's number was 10\n",
            "Your score is now 2\n",
            "\n",
            "Thanks for playing!\n",
            "Good job, you played really well!\n"
          ]
        }
      ],
      "source": [
        "import random\n",
        "\n",
        "# Problem Statement:\n",
        "# The High-Low game involves two numbers being generated: one for the player and one for the computer (both between 1 and 100).\n",
        "# The player guesses if their number is higher or lower than the computer's number.\n",
        "# If the player's guess is correct, they score a point.\n",
        "# After a set number of rounds (NUM_ROUNDS), the game ends and the player's score is evaluated.\n",
        "# The game gives feedback based on how well the player performed.\n",
        "\n",
        "# Constants\n",
        "NUM_ROUNDS = 5  # You can adjust this as needed for the number of rounds\n",
        "\n",
        "# Function to play a round\n",
        "def play_round(round_number, score):\n",
        "    # Generate random numbers for the player and the computer\n",
        "    player_number = random.randint(1, 100)\n",
        "    computer_number = random.randint(1, 100)\n",
        "\n",
        "    # Print round details\n",
        "    print(f\"Round {round_number}\")\n",
        "    print(f\"Your number is {player_number}\")\n",
        "\n",
        "    # Get user input for their guess\n",
        "    guess = input(f\"Do you think your number is higher or lower than the computer's?: \").lower()\n",
        "\n",
        "    # Validate input to ensure it is either 'higher' or 'lower'\n",
        "    while guess not in ['higher', 'lower']:\n",
        "        guess = input(\"Please enter either 'higher' or 'lower': \").lower()\n",
        "\n",
        "    # Check if the player's guess is correct\n",
        "    if (guess == 'higher' and player_number > computer_number) or (guess == 'lower' and player_number < computer_number):\n",
        "        print(f\"You were right! The computer's number was {computer_number}\")\n",
        "        score += 1  # Increment score if the guess is correct\n",
        "    else:\n",
        "        print(f\"Aww, that's incorrect. The computer's number was {computer_number}\")\n",
        "\n",
        "    # Print current score after the round\n",
        "    print(f\"Your score is now {score}\\n\")\n",
        "    return score\n",
        "\n",
        "# Function to give feedback at the end of the game\n",
        "def give_feedback(score, rounds_played):\n",
        "    # Evaluate performance based on the score\n",
        "    if score == rounds_played:\n",
        "        print(\"Wow! You played perfectly!\")  # Perfect game\n",
        "    elif score >= rounds_played // 2:\n",
        "        print(\"Good job, you played really well!\")  # Half or more rounds won\n",
        "    else:\n",
        "        print(\"Better luck next time!\")  # Less than half rounds won\n",
        "\n",
        "# Main game function\n",
        "def play_game():\n",
        "    print(\"Welcome to the High-Low Game!\")\n",
        "    print(\"--------------------------------\")\n",
        "\n",
        "    score = 0  # Initialize score at the start\n",
        "\n",
        "    # Play multiple rounds\n",
        "    for round_number in range(1, NUM_ROUNDS + 1):\n",
        "        score = play_round(round_number, score)\n",
        "\n",
        "    # End game feedback\n",
        "    print(\"Thanks for playing!\")\n",
        "    give_feedback(score, NUM_ROUNDS)\n",
        "\n",
        "# Run the game\n",
        "play_game()\n"
      ]
    }
  ]
}