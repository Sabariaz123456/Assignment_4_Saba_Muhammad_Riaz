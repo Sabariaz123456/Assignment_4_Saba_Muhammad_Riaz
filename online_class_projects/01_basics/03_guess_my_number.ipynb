{
  "nbformat": 4,
  "nbformat_minor": 0,
  "metadata": {
    "colab": {
      "provenance": [],
      "authorship_tag": "ABX9TyPXmv3+wTxeud5VJ5tz8IJ8",
      "include_colab_link": true
    },
    "kernelspec": {
      "name": "python3",
      "display_name": "Python 3"
    },
    "language_info": {
      "name": "python"
    }
  },
  "cells": [
    {
      "cell_type": "markdown",
      "metadata": {
        "id": "view-in-github",
        "colab_type": "text"
      },
      "source": [
        "<a href=\"https://colab.research.google.com/github/Sabariaz123456/Assignment_4_Saba_Muhammad_Riaz/blob/main/online_class_projects/01_basics/03_guess_my_number.ipynb\" target=\"_parent\"><img src=\"https://colab.research.google.com/assets/colab-badge.svg\" alt=\"Open In Colab\"/></a>"
      ]
    },
    {
      "cell_type": "code",
      "execution_count": null,
      "metadata": {
        "colab": {
          "base_uri": "https://localhost:8080/"
        },
        "id": "WGqbIgUxZzJr",
        "outputId": "c7c5257a-aa36-4754-ec77-5d300e279f7b"
      },
      "outputs": [
        {
          "output_type": "stream",
          "name": "stdout",
          "text": [
            "I am thinking of a number between 1 and 99...\n",
            "Enter a guess: 6\n",
            "Your guess is too high\n",
            "\n"
          ]
        }
      ],
      "source": [
        "import random\n",
        "\n",
        "def main():\n",
        "    # Problem Statement:\n",
        "    # The program randomly selects a number between 1 and 99.\n",
        "    # The user has to guess this number, and after each guess,\n",
        "    # the program provides feedback whether the guess is too high or too low.\n",
        "    # The game continues until the user guesses the correct number.\n",
        "\n",
        "    # Generate the secret number at random!\n",
        "    secret_number: int = random.randint(1, 99)\n",
        "\n",
        "    print(\"I am thinking of a number between 1 and 99...\")\n",
        "\n",
        "    # Get user's first guess\n",
        "    guess = int(input(\"Enter a guess: \"))\n",
        "\n",
        "    # Loop continues until the user guesses the secret number\n",
        "    while guess != secret_number:\n",
        "        # If guess is lower than the secret number, inform the user\n",
        "        if guess < secret_number:\n",
        "            print(\"Your guess is too low\")\n",
        "        else:\n",
        "            # If guess is higher than the secret number, inform the user\n",
        "            print(\"Your guess is too high\")\n",
        "\n",
        "        print()  # Print an empty line to tidy up the console for new guesses\n",
        "\n",
        "        # Ask for a new guess\n",
        "        guess: int = int(input(\"Enter a new guess: \"))\n",
        "\n",
        "    # Inform the user they have guessed the correct number\n",
        "    print(\"Congrats! The number was: \" + str(secret_number))\n",
        "\n",
        "# Run the game if the script is executed directly\n",
        "if __name__ == '__main__':\n",
        "    main()\n"
      ]
    }
  ]
}