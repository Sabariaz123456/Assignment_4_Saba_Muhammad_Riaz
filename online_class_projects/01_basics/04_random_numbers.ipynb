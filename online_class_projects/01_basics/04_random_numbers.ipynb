{
  "nbformat": 4,
  "nbformat_minor": 0,
  "metadata": {
    "colab": {
      "provenance": [],
      "authorship_tag": "ABX9TyPVFdpfvD8fttl8M6/WnTyd",
      "include_colab_link": true
    },
    "kernelspec": {
      "name": "python3",
      "display_name": "Python 3"
    },
    "language_info": {
      "name": "python"
    }
  },
  "cells": [
    {
      "cell_type": "markdown",
      "metadata": {
        "id": "view-in-github",
        "colab_type": "text"
      },
      "source": [
        "<a href=\"https://colab.research.google.com/github/Sabariaz123456/Assignment_4_Saba_Muhammad_Riaz/blob/main/online_class_projects/01_basics/04_random_numbers.ipynb\" target=\"_parent\"><img src=\"https://colab.research.google.com/assets/colab-badge.svg\" alt=\"Open In Colab\"/></a>"
      ]
    },
    {
      "cell_type": "markdown",
      "source": [
        "# **04_random_numbers**"
      ],
      "metadata": {
        "id": "_UIBKAUYbEWw"
      }
    },
    {
      "cell_type": "code",
      "execution_count": 1,
      "metadata": {
        "colab": {
          "base_uri": "https://localhost:8080/"
        },
        "id": "HYWdyafXbBwP",
        "outputId": "1ccd2e78-eab5-4e6a-8150-ed77f7729923"
      },
      "outputs": [
        {
          "output_type": "stream",
          "name": "stdout",
          "text": [
            "Generated Random Numbers:\n",
            "55\n",
            "42\n",
            "5\n",
            "3\n",
            "90\n",
            "62\n",
            "17\n",
            "23\n",
            "16\n",
            "52\n"
          ]
        }
      ],
      "source": [
        "import random\n",
        "\n",
        "# Constants to define the number of random values to generate and their range.\n",
        "N_NUMBERS: int = 10  # The number of random numbers to generate.\n",
        "MIN_VALUE: int = 1    # The minimum value that can be generated.\n",
        "MAX_VALUE: int = 100  # The maximum value that can be generated.\n",
        "\n",
        "def main():\n",
        "    \"\"\"\n",
        "    Problem Statement:\n",
        "    This program generates N_NUMBERS random integers between MIN_VALUE and MAX_VALUE\n",
        "    and prints them to the console.\n",
        "\n",
        "    Steps:\n",
        "    1. Generate N_NUMBERS random numbers within the given range.\n",
        "    2. Print the generated numbers.\n",
        "    \"\"\"\n",
        "    # List to hold the random numbers\n",
        "    random_numbers = [random.randint(MIN_VALUE, MAX_VALUE) for _ in range(N_NUMBERS)]\n",
        "\n",
        "    # Printing the generated random numbers\n",
        "    print(\"Generated Random Numbers:\")\n",
        "    for num in random_numbers:\n",
        "        print(num)\n",
        "\n",
        "if __name__ == '__main__':\n",
        "    main()\n"
      ]
    }
  ]
}