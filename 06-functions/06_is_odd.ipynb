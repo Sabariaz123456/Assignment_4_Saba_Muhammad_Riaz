{
  "nbformat": 4,
  "nbformat_minor": 0,
  "metadata": {
    "colab": {
      "provenance": [],
      "authorship_tag": "ABX9TyMpgJJDyLMZYYbqQmSkQaC9",
      "include_colab_link": true
    },
    "kernelspec": {
      "name": "python3",
      "display_name": "Python 3"
    },
    "language_info": {
      "name": "python"
    }
  },
  "cells": [
    {
      "cell_type": "markdown",
      "metadata": {
        "id": "view-in-github",
        "colab_type": "text"
      },
      "source": [
        "<a href=\"https://colab.research.google.com/github/Sabariaz123456/Assignment_4_Saba_Muhammad_Riaz/blob/main/06-functions/06_is_odd.ipynb\" target=\"_parent\"><img src=\"https://colab.research.google.com/assets/colab-badge.svg\" alt=\"Open In Colab\"/></a>"
      ]
    },
    {
      "cell_type": "markdown",
      "source": [
        "# **06_is_odd**"
      ],
      "metadata": {
        "id": "0pORHPFkEcvo"
      }
    },
    {
      "cell_type": "code",
      "execution_count": 1,
      "metadata": {
        "colab": {
          "base_uri": "https://localhost:8080/"
        },
        "id": "-r9UonfHEa41",
        "outputId": "da8e0c55-5f4d-4732-a9c2-f40c2b32534d"
      },
      "outputs": [
        {
          "output_type": "stream",
          "name": "stdout",
          "text": [
            "even\n",
            "odd\n",
            "even\n",
            "odd\n",
            "even\n",
            "odd\n",
            "even\n",
            "odd\n",
            "even\n",
            "odd\n"
          ]
        }
      ],
      "source": [
        "\"\"\"\n",
        "Problem Statement:\n",
        "Write a Python program that iterates through numbers from 0 to 9 and determines whether each number is odd or even.\n",
        "The program should print \"odd\" for odd numbers and \"even\" for even numbers.\n",
        "\"\"\"\n",
        "\n",
        "def main():\n",
        "    # Loop through numbers from 0 to 9\n",
        "    for i in range(10):\n",
        "        # Check if the number is odd using is_odd function\n",
        "        if is_odd(i):\n",
        "            print('odd')  # Print \"odd\" if the number is odd\n",
        "        else:\n",
        "            print('even')  # Print \"even\" if the number is even\n",
        "\n",
        "def is_odd(value: int):\n",
        "    \"\"\"\n",
        "    Checks if a given integer is odd.\n",
        "    Returns True if the number is odd, otherwise returns False.\n",
        "    \"\"\"\n",
        "\n",
        "    remainder = value % 2  # Compute remainder when divided by 2\n",
        "    return remainder == 1  # Returns True for odd numbers, False for even numbers\n",
        "\n",
        "# There is no need to edit code beyond this point\n",
        "if __name__ == '__main__':\n",
        "    main()\n"
      ]
    }
  ]
}