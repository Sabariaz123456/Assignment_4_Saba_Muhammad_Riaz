{
  "nbformat": 4,
  "nbformat_minor": 0,
  "metadata": {
    "colab": {
      "provenance": [],
      "authorship_tag": "ABX9TyPeSeEn9bcnSGo6KbGNfTOj",
      "include_colab_link": true
    },
    "kernelspec": {
      "name": "python3",
      "display_name": "Python 3"
    },
    "language_info": {
      "name": "python"
    }
  },
  "cells": [
    {
      "cell_type": "markdown",
      "metadata": {
        "id": "view-in-github",
        "colab_type": "text"
      },
      "source": [
        "<a href=\"https://colab.research.google.com/github/Sabariaz123456/Assignment_4_Saba_Muhammad_Riaz/blob/main/06-functions/04_double.ipynb\" target=\"_parent\"><img src=\"https://colab.research.google.com/assets/colab-badge.svg\" alt=\"Open In Colab\"/></a>"
      ]
    },
    {
      "cell_type": "markdown",
      "source": [
        "# **04_double**"
      ],
      "metadata": {
        "id": "v7y4hJHGDPvS"
      }
    },
    {
      "cell_type": "code",
      "execution_count": 1,
      "metadata": {
        "colab": {
          "base_uri": "https://localhost:8080/"
        },
        "id": "QmtWZsWfDNft",
        "outputId": "1b469e47-5f8d-4d63-dbd7-d35bd3d04be0"
      },
      "outputs": [
        {
          "output_type": "stream",
          "name": "stdout",
          "text": [
            "Enter a number: 56\n",
            "Double that is 112\n"
          ]
        }
      ],
      "source": [
        "# Problem Statement:\n",
        "# Write a Python program that takes an integer input from the user,\n",
        "# doubles it using a function, and prints the result.\n",
        "\n",
        "# Function to double a given number\n",
        "def double(num: int):\n",
        "    return num * 2  # Multiply the number by 2 and return the result\n",
        "\n",
        "# There is no need to edit code beyond this point\n",
        "\n",
        "def main():\n",
        "    # Prompt the user for an integer input\n",
        "    num = int(input(\"Enter a number: \"))\n",
        "\n",
        "    # Call the double function and store the result\n",
        "    num_times_2 = double(num)\n",
        "\n",
        "    # Print the doubled value\n",
        "    print(\"Double that is\", num_times_2)\n",
        "\n",
        "# Execute the main function when the script is run directly\n",
        "if __name__ == '__main__':\n",
        "    main()\n"
      ]
    }
  ]
}