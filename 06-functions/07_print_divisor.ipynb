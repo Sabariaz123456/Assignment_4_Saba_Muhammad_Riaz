{
  "nbformat": 4,
  "nbformat_minor": 0,
  "metadata": {
    "colab": {
      "provenance": [],
      "authorship_tag": "ABX9TyMSYzvmwBXnf1SYnKuXDXm1",
      "include_colab_link": true
    },
    "kernelspec": {
      "name": "python3",
      "display_name": "Python 3"
    },
    "language_info": {
      "name": "python"
    }
  },
  "cells": [
    {
      "cell_type": "markdown",
      "metadata": {
        "id": "view-in-github",
        "colab_type": "text"
      },
      "source": [
        "<a href=\"https://colab.research.google.com/github/Sabariaz123456/Assignment_4_Saba_Muhammad_Riaz/blob/main/06-functions/07_print_divisor.ipynb\" target=\"_parent\"><img src=\"https://colab.research.google.com/assets/colab-badge.svg\" alt=\"Open In Colab\"/></a>"
      ]
    },
    {
      "cell_type": "markdown",
      "source": [
        "# **07_print_divisor**"
      ],
      "metadata": {
        "id": "jaU1iZUuFAoT"
      }
    },
    {
      "cell_type": "code",
      "execution_count": 1,
      "metadata": {
        "colab": {
          "base_uri": "https://localhost:8080/"
        },
        "id": "WK2oKXA3E-mG",
        "outputId": "a6b486fe-896b-4ecb-feee-ac95a8c36e97"
      },
      "outputs": [
        {
          "output_type": "stream",
          "name": "stdout",
          "text": [
            "Enter a number: 66\n",
            "Here are the divisors of 66\n",
            "1\n",
            "2\n",
            "3\n",
            "6\n",
            "11\n",
            "22\n",
            "33\n",
            "66\n"
          ]
        }
      ],
      "source": [
        "\"\"\"\n",
        "Problem Statement:\n",
        "Write a Python program that takes an integer input from the user and prints all of its divisors.\n",
        "A divisor of a number is any integer that divides the number completely without leaving a remainder.\n",
        "\"\"\"\n",
        "\n",
        "def print_divisors(num: int):\n",
        "    \"\"\"\n",
        "    This function prints all divisors of the given number.\n",
        "    It iterates from 1 to the number itself and checks if the number is divisible.\n",
        "    \"\"\"\n",
        "    print(\"Here are the divisors of\", num)\n",
        "    for i in range(num):  # Loop through numbers from 1 to num\n",
        "        curr_divisor = i + 1  # Adjust index to start from 1\n",
        "        if num % curr_divisor == 0:  # Check divisibility\n",
        "            print(curr_divisor)  # Print the divisor\n",
        "\n",
        "def main():\n",
        "    \"\"\"\n",
        "    This function takes input from the user and calls print_divisors.\n",
        "    \"\"\"\n",
        "    num = int(input(\"Enter a number: \"))  # Take user input\n",
        "    print_divisors(num)  # Call function to print divisors\n",
        "\n",
        "# There is no need to edit code beyond this point\n",
        "if __name__ == '__main__':\n",
        "    main()\n"
      ]
    }
  ]
}