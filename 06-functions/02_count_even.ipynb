{
  "nbformat": 4,
  "nbformat_minor": 0,
  "metadata": {
    "colab": {
      "provenance": [],
      "authorship_tag": "ABX9TyMTFbZ2ayg/ANztEAWaAyxV",
      "include_colab_link": true
    },
    "kernelspec": {
      "name": "python3",
      "display_name": "Python 3"
    },
    "language_info": {
      "name": "python"
    }
  },
  "cells": [
    {
      "cell_type": "markdown",
      "metadata": {
        "id": "view-in-github",
        "colab_type": "text"
      },
      "source": [
        "<a href=\"https://colab.research.google.com/github/Sabariaz123456/Assignment_4_Saba_Muhammad_Riaz/blob/main/06-functions/02_count_even.ipynb\" target=\"_parent\"><img src=\"https://colab.research.google.com/assets/colab-badge.svg\" alt=\"Open In Colab\"/></a>"
      ]
    },
    {
      "cell_type": "markdown",
      "source": [
        "# **02_count_even**"
      ],
      "metadata": {
        "id": "EWRpZeAuCePb"
      }
    },
    {
      "cell_type": "code",
      "execution_count": 1,
      "metadata": {
        "colab": {
          "base_uri": "https://localhost:8080/"
        },
        "id": "YGImpj5ZCbVW",
        "outputId": "1328bb49-628c-430e-cac8-a6d90ece60e1"
      },
      "outputs": [
        {
          "output_type": "stream",
          "name": "stdout",
          "text": [
            "Enter an integer or press enter to stop: 6\n",
            "Enter an integer or press enter to stop: 6\n",
            "Enter an integer or press enter to stop: 7\n",
            "Enter an integer or press enter to stop: \n",
            "2\n"
          ]
        }
      ],
      "source": [
        "\"\"\"\n",
        "Problem Statement:\n",
        "Write a Python program that reads a list of integers from the user, counts the number of even numbers in the list, and prints the result. The program should continue reading numbers until the user presses enter without inputting a value.\n",
        "\"\"\"\n",
        "\n",
        "def count_even(lst):\n",
        "    \"\"\"\n",
        "    Returns the number of even numbers in a list.\n",
        "    >>> count_even([1,2,3,4])\n",
        "    2\n",
        "    >>> count_even([1,3,5,7])\n",
        "    0\n",
        "    \"\"\"\n",
        "    count = 0  # Stores the count of even numbers in the list\n",
        "    for num in lst:  # Loop through the numbers in the list\n",
        "        if num % 2 == 0:  # Check if the number is even\n",
        "            count += 1  # Increment count if even\n",
        "\n",
        "    print(count)  # Print the count of even numbers\n",
        "\n",
        "def get_list_of_ints():\n",
        "    \"\"\"\n",
        "    Reads integers from user input until an empty input is given.\n",
        "    Returns the list of integers entered by the user.\n",
        "    \"\"\"\n",
        "    lst = []  # Initialize an empty list to store integers\n",
        "    user_input = input(\"Enter an integer or press enter to stop: \")  # Prompt user for input\n",
        "\n",
        "    while user_input != \"\":  # Continue until the user presses enter without input\n",
        "        lst.append(int(user_input))  # Convert input to integer and add to the list\n",
        "        user_input = input(\"Enter an integer or press enter to stop: \")  # Get next input\n",
        "\n",
        "    return lst  # Return the list of collected integers\n",
        "\n",
        "def main():\n",
        "    \"\"\"\n",
        "    Main function to get user input and count even numbers.\n",
        "    \"\"\"\n",
        "    lst = get_list_of_ints()  # Get a list of integers from the user\n",
        "    count_even(lst)  # Count and print the number of even numbers in the list\n",
        "\n",
        "# Ensuring the script runs only when executed directly\n",
        "if __name__ == '__main__':\n",
        "    main()\n"
      ]
    }
  ]
}