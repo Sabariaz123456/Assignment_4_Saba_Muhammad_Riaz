{
  "nbformat": 4,
  "nbformat_minor": 0,
  "metadata": {
    "colab": {
      "provenance": [],
      "authorship_tag": "ABX9TyMwvCh38S6yQaeV/uKtkQUq",
      "include_colab_link": true
    },
    "kernelspec": {
      "name": "python3",
      "display_name": "Python 3"
    },
    "language_info": {
      "name": "python"
    }
  },
  "cells": [
    {
      "cell_type": "markdown",
      "metadata": {
        "id": "view-in-github",
        "colab_type": "text"
      },
      "source": [
        "<a href=\"https://colab.research.google.com/github/Sabariaz123456/Assignment_4_Saba_Muhammad_Riaz/blob/main/06-functions/01_chaotic_counting.ipynb\" target=\"_parent\"><img src=\"https://colab.research.google.com/assets/colab-badge.svg\" alt=\"Open In Colab\"/></a>"
      ]
    },
    {
      "cell_type": "markdown",
      "source": [
        "# **01_chaotic_counting**"
      ],
      "metadata": {
        "id": "vBG7RMi6B0oz"
      }
    },
    {
      "cell_type": "code",
      "execution_count": 1,
      "metadata": {
        "colab": {
          "base_uri": "https://localhost:8080/"
        },
        "id": "racv7E-SBz7I",
        "outputId": "40abcbd3-0811-4a0a-9272-6cd0be418d42"
      },
      "outputs": [
        {
          "output_type": "stream",
          "name": "stdout",
          "text": [
            "I'm going to count until 10 or until I feel like stopping, whichever comes first.\n",
            "1\n",
            "2\n",
            "3\n",
            "4\n",
            "I'm done\n"
          ]
        }
      ],
      "source": [
        "\"\"\"\n",
        "Problem Statement:\n",
        "------------------\n",
        "Create a function that counts from 1 to 10 but may stop early based on a random condition.\n",
        "The function `chaotic_counting()` iterates through numbers 1 to 10, printing each number.\n",
        "However, it terminates early if the `done()` function returns `True`, introducing randomness.\n",
        "\n",
        "The function `done()` returns `True` with a probability defined by `DONE_LIKELIHOOD`, stopping the count prematurely.\n",
        "The `main()` function initiates the counting and prints appropriate messages before and after execution.\n",
        "\"\"\"\n",
        "\n",
        "import random  # Importing random module for probability-based termination\n",
        "\n",
        "# Probability of stopping the count early (adjustable parameter)\n",
        "DONE_LIKELIHOOD = 0.3  # 30% chance of stopping at each step\n",
        "\n",
        "def chaotic_counting():\n",
        "    \"\"\"Counts from 1 to 10 but may stop early based on a random condition.\"\"\"\n",
        "    for i in range(10):\n",
        "        curr_num = i + 1  # Current number in the count\n",
        "        if done():  # Check if we should stop counting\n",
        "            return  # Exits the function early\n",
        "        print(curr_num)  # Print the current number\n",
        "\n",
        "def done():\n",
        "    \"\"\"Returns True with a probability of DONE_LIKELIHOOD.\"\"\"\n",
        "    return random.random() < DONE_LIKELIHOOD  # Random chance to stop\n",
        "\n",
        "def main():\n",
        "    \"\"\"Main function to execute chaotic counting.\"\"\"\n",
        "    print(\"I'm going to count until 10 or until I feel like stopping, whichever comes first.\")\n",
        "    chaotic_counting()  # Start chaotic counting\n",
        "    print(\"I'm done\")  # Indicate completion\n",
        "\n",
        "if __name__ == \"__main__\":\n",
        "    main()  # Run the program\n"
      ]
    }
  ]
}