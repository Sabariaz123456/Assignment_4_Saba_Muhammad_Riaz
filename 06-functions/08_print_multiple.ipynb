{
  "nbformat": 4,
  "nbformat_minor": 0,
  "metadata": {
    "colab": {
      "provenance": [],
      "authorship_tag": "ABX9TyMi2WjWQfLN4opJ9OuwPyUC",
      "include_colab_link": true
    },
    "kernelspec": {
      "name": "python3",
      "display_name": "Python 3"
    },
    "language_info": {
      "name": "python"
    }
  },
  "cells": [
    {
      "cell_type": "markdown",
      "metadata": {
        "id": "view-in-github",
        "colab_type": "text"
      },
      "source": [
        "<a href=\"https://colab.research.google.com/github/Sabariaz123456/Assignment_4_Saba_Muhammad_Riaz/blob/main/06-functions/08_print_multiple.ipynb\" target=\"_parent\"><img src=\"https://colab.research.google.com/assets/colab-badge.svg\" alt=\"Open In Colab\"/></a>"
      ]
    },
    {
      "cell_type": "markdown",
      "source": [
        "# **08_print_multiple**"
      ],
      "metadata": {
        "id": "9V3tP85NFvEW"
      }
    },
    {
      "cell_type": "code",
      "execution_count": 1,
      "metadata": {
        "colab": {
          "base_uri": "https://localhost:8080/",
          "height": 1000
        },
        "id": "XXzx7pghFt54",
        "outputId": "89cc0360-11b6-4753-9eb4-386b411080b6"
      },
      "outputs": [
        {
          "output_type": "stream",
          "name": "stdout",
          "text": [
            "Please type a message: SAba\n",
            "Enter a number of times to repeat your message: 67\n",
            "SAba\n",
            "SAba\n",
            "SAba\n",
            "SAba\n",
            "SAba\n",
            "SAba\n",
            "SAba\n",
            "SAba\n",
            "SAba\n",
            "SAba\n",
            "SAba\n",
            "SAba\n",
            "SAba\n",
            "SAba\n",
            "SAba\n",
            "SAba\n",
            "SAba\n",
            "SAba\n",
            "SAba\n",
            "SAba\n",
            "SAba\n",
            "SAba\n",
            "SAba\n",
            "SAba\n",
            "SAba\n",
            "SAba\n",
            "SAba\n",
            "SAba\n",
            "SAba\n",
            "SAba\n",
            "SAba\n",
            "SAba\n",
            "SAba\n",
            "SAba\n",
            "SAba\n",
            "SAba\n",
            "SAba\n",
            "SAba\n",
            "SAba\n",
            "SAba\n",
            "SAba\n",
            "SAba\n",
            "SAba\n",
            "SAba\n",
            "SAba\n",
            "SAba\n",
            "SAba\n",
            "SAba\n",
            "SAba\n",
            "SAba\n",
            "SAba\n",
            "SAba\n",
            "SAba\n",
            "SAba\n",
            "SAba\n",
            "SAba\n",
            "SAba\n",
            "SAba\n",
            "SAba\n",
            "SAba\n",
            "SAba\n",
            "SAba\n",
            "SAba\n",
            "SAba\n",
            "SAba\n",
            "SAba\n",
            "SAba\n"
          ]
        },
        {
          "output_type": "execute_result",
          "data": {
            "text/plain": [
              "'\\nProblem Statement:\\nWrite a function print_multiple(message, repeats) that takes a string message and an integer repeats as parameters.\\nThe function should print the message the specified number of times.\\nThe main() function should prompt the user for a message and the number of times to print it, then call print_multiple.\\nExample Run:\\nInput:\\nPlease type a message: Hello!\\nEnter a number of times to repeat your message: 6\\nOutput:\\nHello!\\nHello!\\nHello!\\nHello!\\nHello!\\nHello!\\n'"
            ],
            "application/vnd.google.colaboratory.intrinsic+json": {
              "type": "string"
            }
          },
          "metadata": {},
          "execution_count": 1
        }
      ],
      "source": [
        "# Function to print the message multiple times\n",
        "def print_multiple(message, repeats):\n",
        "    for _ in range(repeats):\n",
        "        print(message)\n",
        "\n",
        "# Main function to take user input and call print_multiple\n",
        "def main():\n",
        "    # Prompt user for message input\n",
        "    message = input(\"Please type a message: \")\n",
        "\n",
        "    # Prompt user for number of times to repeat the message\n",
        "    repeats = int(input(\"Enter a number of times to repeat your message: \"))\n",
        "\n",
        "    # Call the function to print the message\n",
        "    print_multiple(message, repeats)\n",
        "\n",
        "# Run the program if executed directly\n",
        "if __name__ == \"__main__\":\n",
        "    main()\n",
        "\n",
        "\"\"\"\n",
        "Problem Statement:\n",
        "Write a function print_multiple(message, repeats) that takes a string message and an integer repeats as parameters.\n",
        "The function should print the message the specified number of times.\n",
        "The main() function should prompt the user for a message and the number of times to print it, then call print_multiple.\n",
        "Example Run:\n",
        "Input:\n",
        "Please type a message: Hello!\n",
        "Enter a number of times to repeat your message: 6\n",
        "Output:\n",
        "Hello!\n",
        "Hello!\n",
        "Hello!\n",
        "Hello!\n",
        "Hello!\n",
        "Hello!\n",
        "\"\"\"\n"
      ]
    }
  ]
}