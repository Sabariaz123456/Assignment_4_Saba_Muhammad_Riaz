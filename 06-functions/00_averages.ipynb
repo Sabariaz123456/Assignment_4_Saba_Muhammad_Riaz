{
  "nbformat": 4,
  "nbformat_minor": 0,
  "metadata": {
    "colab": {
      "provenance": [],
      "authorship_tag": "ABX9TyNCObW2H8LiyL+VhB1dj8Nk",
      "include_colab_link": true
    },
    "kernelspec": {
      "name": "python3",
      "display_name": "Python 3"
    },
    "language_info": {
      "name": "python"
    }
  },
  "cells": [
    {
      "cell_type": "markdown",
      "metadata": {
        "id": "view-in-github",
        "colab_type": "text"
      },
      "source": [
        "<a href=\"https://colab.research.google.com/github/Sabariaz123456/Assignment_4_Saba_Muhammad_Riaz/blob/main/06-functions/00_averages.ipynb\" target=\"_parent\"><img src=\"https://colab.research.google.com/assets/colab-badge.svg\" alt=\"Open In Colab\"/></a>"
      ]
    },
    {
      "cell_type": "markdown",
      "source": [
        "# **00_averages**"
      ],
      "metadata": {
        "id": "sezkNnf6BGMK"
      }
    },
    {
      "cell_type": "code",
      "execution_count": 1,
      "metadata": {
        "id": "RHKYWtvmA1k3",
        "colab": {
          "base_uri": "https://localhost:8080/"
        },
        "outputId": "36ae0db2-c3ea-4c3d-ff3e-0ca6ce8cab56"
      },
      "outputs": [
        {
          "output_type": "stream",
          "name": "stdout",
          "text": [
            "avg_1: 5.0\n",
            "avg_2: 9.0\n",
            "final: 7.0\n"
          ]
        }
      ],
      "source": [
        "\"\"\"\n",
        "Problem Statement:\n",
        "Write a Python program that calculates the average of two numbers.\n",
        "The program should define a function `average` that returns the midpoint between two given numbers.\n",
        "It should then compute intermediate averages and a final average using this function and display the results.\n",
        "\"\"\"\n",
        "\n",
        "def average(a: float, b: float):\n",
        "    \"\"\"\n",
        "    Returns the number which is halfway between a and b.\n",
        "    \"\"\"\n",
        "    sum = a + b  # Calculate the sum of both numbers\n",
        "    return sum / 2  # Return their average\n",
        "\n",
        "def main():\n",
        "    # Calculate the average of 0 and 10\n",
        "    avg_1 = average(0, 10)\n",
        "\n",
        "    # Calculate the average of 8 and 10\n",
        "    avg_2 = average(8, 10)\n",
        "\n",
        "    # Compute the final average of the two intermediate averages\n",
        "    final = average(avg_1, avg_2)\n",
        "\n",
        "    # Print results\n",
        "    print(\"avg_1:\", avg_1)  # Output the first average\n",
        "    print(\"avg_2:\", avg_2)  # Output the second average\n",
        "    print(\"final:\", final)  # Output the final average\n",
        "\n",
        "# There is no need to edit code beyond this point\n",
        "if __name__ == '__main__':\n",
        "    main()\n"
      ]
    }
  ]
}