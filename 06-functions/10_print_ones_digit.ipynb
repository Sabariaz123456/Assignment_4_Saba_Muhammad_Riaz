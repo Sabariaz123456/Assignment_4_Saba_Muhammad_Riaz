{
  "nbformat": 4,
  "nbformat_minor": 0,
  "metadata": {
    "colab": {
      "provenance": [],
      "authorship_tag": "ABX9TyMhfS0/KtojhruIl26D+Fx0",
      "include_colab_link": true
    },
    "kernelspec": {
      "name": "python3",
      "display_name": "Python 3"
    },
    "language_info": {
      "name": "python"
    }
  },
  "cells": [
    {
      "cell_type": "markdown",
      "metadata": {
        "id": "view-in-github",
        "colab_type": "text"
      },
      "source": [
        "<a href=\"https://colab.research.google.com/github/Sabariaz123456/Assignment_4_Saba_Muhammad_Riaz/blob/main/06-functions/10_print_ones_digit.ipynb\" target=\"_parent\"><img src=\"https://colab.research.google.com/assets/colab-badge.svg\" alt=\"Open In Colab\"/></a>"
      ]
    },
    {
      "cell_type": "markdown",
      "source": [
        "# **10_print_ones_digit**"
      ],
      "metadata": {
        "id": "8hpgdJ6vHJNy"
      }
    },
    {
      "cell_type": "code",
      "execution_count": 1,
      "metadata": {
        "colab": {
          "base_uri": "https://localhost:8080/"
        },
        "id": "6Q0ZEefXHFv9",
        "outputId": "cb111b13-1991-4020-e1b6-536e3d174047"
      },
      "outputs": [
        {
          "output_type": "stream",
          "name": "stdout",
          "text": [
            "Enter a number: 44\n",
            "The ones digit is 4\n"
          ]
        }
      ],
      "source": [
        "# Problem Statement:\n",
        "# Write a function called print_ones_digit, which takes an integer num as a parameter\n",
        "# and prints its ones digit. The modulo (remainder) operator, %, should be helpful.\n",
        "# Call your function from main().\n",
        "\n",
        "def print_ones_digit(num):\n",
        "    \"\"\"\n",
        "    This function takes an integer 'num' and prints its ones digit.\n",
        "    \"\"\"\n",
        "    ones_digit = num % 10  # Extracting the ones digit using the modulo operator\n",
        "    print(f\"The ones digit is {ones_digit}\")  # Printing the ones digit\n",
        "\n",
        "def main():\n",
        "    \"\"\"\n",
        "    This function takes user input, converts it into an integer,\n",
        "    and calls the print_ones_digit function.\n",
        "    \"\"\"\n",
        "    num = int(input(\"Enter a number: \"))  # Taking user input and converting to integer\n",
        "    print_ones_digit(num)  # Calling the function to print the ones digit\n",
        "\n",
        "# Calling the main function to execute the program\n",
        "main()\n",
        "\n"
      ]
    }
  ]
}