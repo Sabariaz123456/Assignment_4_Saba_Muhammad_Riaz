{
  "nbformat": 4,
  "nbformat_minor": 0,
  "metadata": {
    "colab": {
      "provenance": [],
      "authorship_tag": "ABX9TyPh8049L6dPTPjKmUvYH86u",
      "include_colab_link": true
    },
    "kernelspec": {
      "name": "python3",
      "display_name": "Python 3"
    },
    "language_info": {
      "name": "python"
    }
  },
  "cells": [
    {
      "cell_type": "markdown",
      "metadata": {
        "id": "view-in-github",
        "colab_type": "text"
      },
      "source": [
        "<a href=\"https://colab.research.google.com/github/Sabariaz123456/Assignment_4_Saba_Muhammad_Riaz/blob/main/06-functions/09_sentence_generator.ipynb\" target=\"_parent\"><img src=\"https://colab.research.google.com/assets/colab-badge.svg\" alt=\"Open In Colab\"/></a>"
      ]
    },
    {
      "cell_type": "markdown",
      "source": [
        "# **09_sentence_generator**"
      ],
      "metadata": {
        "id": "OAXm2EsxGcFa"
      }
    },
    {
      "cell_type": "code",
      "execution_count": 1,
      "metadata": {
        "colab": {
          "base_uri": "https://localhost:8080/"
        },
        "id": "EwtteoL4GaRr",
        "outputId": "49430869-2f73-4c3a-9b7c-47f600e9b17f"
      },
      "outputs": [
        {
          "output_type": "stream",
          "name": "stdout",
          "text": [
            "Please type a noun, verb, or adjective: Saba\n",
            "Is this a noun, verb, or adjective?\n",
            "Type 0 for noun, 1 for verb, 2 for adjective: 1\n",
            "It's so nice outside today it makes me want to Saba!\n"
          ]
        }
      ],
      "source": [
        "# Problem Statement:\n",
        "# This program takes a word from the user along with its part of speech (noun, verb, or adjective) and generates a sentence accordingly.\n",
        "# The user must input a word and specify its part of speech using 0 (noun), 1 (verb), or 2 (adjective).\n",
        "# If an invalid number is entered, the program notifies the user that the input is incorrect.\n",
        "\n",
        "def make_sentence(word, part_of_speech):\n",
        "    \"\"\"\n",
        "    Generates and prints a sentence based on the provided word and its part of speech.\n",
        "\n",
        "    Parameters:\n",
        "    word (str): The word to be used in the sentence.\n",
        "    part_of_speech (int): The category of the word (0 for noun, 1 for verb, 2 for adjective).\n",
        "    \"\"\"\n",
        "    if part_of_speech == 0:\n",
        "        # noun\n",
        "        print(\"I am excited to add this \" + word + \" to my vast collection of them!\")\n",
        "    elif part_of_speech == 1:\n",
        "        # verb\n",
        "        print(\"It's so nice outside today it makes me want to \" + word + \"!\")\n",
        "    elif part_of_speech == 2:\n",
        "        # adjective\n",
        "        print(\"Looking out my window, the sky is big and \" + word + \"!\")\n",
        "    else:\n",
        "        # part_of_speech is invalid (not 0, 1, or 2)\n",
        "        print(\"Part of speech must be 0, 1, or 2! Can't make a sentence.\")\n",
        "\n",
        "# Main function to get user input and call make_sentence function\n",
        "def main():\n",
        "    \"\"\"\n",
        "    Gets user input for a word and its part of speech, then calls make_sentence().\n",
        "    \"\"\"\n",
        "    word: str = input(\"Please type a noun, verb, or adjective: \")\n",
        "    print(\"Is this a noun, verb, or adjective?\")\n",
        "\n",
        "    try:\n",
        "        part_of_speech = int(input(\"Type 0 for noun, 1 for verb, 2 for adjective: \"))\n",
        "        make_sentence(word, part_of_speech)\n",
        "    except ValueError:\n",
        "        print(\"Invalid input! Please enter 0, 1, or 2 for the part of speech.\")\n",
        "\n",
        "# Run the program if executed directly\n",
        "if __name__ == '__main__':\n",
        "    main()"
      ]
    }
  ]
}