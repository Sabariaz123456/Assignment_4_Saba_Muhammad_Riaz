{
  "nbformat": 4,
  "nbformat_minor": 0,
  "metadata": {
    "colab": {
      "provenance": [],
      "authorship_tag": "ABX9TyPx0guwbLDGWpsx096LraNh",
      "include_colab_link": true
    },
    "kernelspec": {
      "name": "python3",
      "display_name": "Python 3"
    },
    "language_info": {
      "name": "python"
    }
  },
  "cells": [
    {
      "cell_type": "markdown",
      "metadata": {
        "id": "view-in-github",
        "colab_type": "text"
      },
      "source": [
        "<a href=\"https://colab.research.google.com/github/Sabariaz123456/Assignment_4_Saba_Muhammad_Riaz/blob/main/online_class_projects%20/01_basics/02_liftoff.ipynb\" target=\"_parent\"><img src=\"https://colab.research.google.com/assets/colab-badge.svg\" alt=\"Open In Colab\"/></a>"
      ]
    },
    {
      "cell_type": "markdown",
      "source": [
        "# **02_liftoff**"
      ],
      "metadata": {
        "id": "LHoQL6h6YTkq"
      }
    },
    {
      "cell_type": "code",
      "execution_count": null,
      "metadata": {
        "id": "ggFgu_c_YSfr"
      },
      "outputs": [],
      "source": [
        "# Problem Statement:\n",
        "# Write a program that prints out the calls for a spaceship that is about to launch.\n",
        "# Countdown from 10 to 1 and then output \"Liftoff!\".\n",
        "\n",
        "# Using a for loop to count down from 10 to 1\n",
        "for i in range(10, 0, -1):  # Starts from 10, decreases to 1\n",
        "    print(i, end=\" \")  # Print numbers on the same line with a space\n",
        "\n",
        "# Print \"Liftoff!\" after the countdown\n",
        "print(\"Liftoff!\")\n"
      ]
    }
  ]
}