{
  "nbformat": 4,
  "nbformat_minor": 0,
  "metadata": {
    "colab": {
      "provenance": [],
      "authorship_tag": "ABX9TyOYCCAIowBIcXPg7SEMsaYb",
      "include_colab_link": true
    },
    "kernelspec": {
      "name": "python3",
      "display_name": "Python 3"
    },
    "language_info": {
      "name": "python"
    }
  },
  "cells": [
    {
      "cell_type": "markdown",
      "metadata": {
        "id": "view-in-github",
        "colab_type": "text"
      },
      "source": [
        "<a href=\"https://colab.research.google.com/github/Sabariaz123456/Assignment_4_Saba_Muhammad_Riaz/blob/main/01-expression/05_remainder_division.ipynb\" target=\"_parent\"><img src=\"https://colab.research.google.com/assets/colab-badge.svg\" alt=\"Open In Colab\"/></a>"
      ]
    },
    {
      "cell_type": "markdown",
      "source": [
        "# **05_remainder_division**"
      ],
      "metadata": {
        "id": "PdwQUdZDlZCo"
      }
    },
    {
      "cell_type": "code",
      "execution_count": 1,
      "metadata": {
        "colab": {
          "base_uri": "https://localhost:8080/"
        },
        "id": "o2_WY8XulYCP",
        "outputId": "36d2815b-c7c8-4b2f-88f9-3ffb3ae4dfb5"
      },
      "outputs": [
        {
          "output_type": "stream",
          "name": "stdout",
          "text": [
            "Please enter an integer to be divided: 6\n",
            "Please enter an integer to divide by: 7\n",
            "The result of this division is 0 with a remainder of 6.\n"
          ]
        }
      ],
      "source": [
        "\"\"\"\n",
        "Problem Statement:\n",
        "This program takes two integer inputs from the user: a dividend and a divisor.\n",
        "It performs integer division (floor division) and calculates the remainder.\n",
        "If the user enters a non-integer value, the program handles the error gracefully.\n",
        "Additionally, it prevents division by zero by displaying an appropriate error message.\n",
        "\"\"\"\n",
        "\n",
        "def main() -> None:\n",
        "    \"\"\"\n",
        "    This function prompts the user to enter two integers: a dividend and a divisor.\n",
        "    It then performs integer division and displays the quotient and remainder.\n",
        "    The function also handles invalid input and prevents division by zero.\n",
        "    \"\"\"\n",
        "    try:\n",
        "        # Get the numbers we want to divide\n",
        "        dividend: int = int(input(\"Please enter an integer to be divided: \"))\n",
        "        divisor: int = int(input(\"Please enter an integer to divide by: \"))\n",
        "\n",
        "        if divisor == 0:\n",
        "            print(\"Error: Division by zero is not allowed.\")  # Prevent division by zero\n",
        "            return\n",
        "\n",
        "        quotient: int = dividend // divisor  # Integer division (floor division)\n",
        "        remainder: int = dividend % divisor  # Modulo operation to get remainder\n",
        "\n",
        "        # Display the result using f-string formatting\n",
        "        print(f\"The result of this division is {quotient} with a remainder of {remainder}.\")\n",
        "\n",
        "    except ValueError:\n",
        "        print(\"Invalid input! Please enter valid integers.\")  # Handle non-integer input\n",
        "\n",
        "# Ensure script runs only when executed directly\n",
        "if __name__ == '__main__':\n",
        "    main()\n"
      ]
    }
  ]
}