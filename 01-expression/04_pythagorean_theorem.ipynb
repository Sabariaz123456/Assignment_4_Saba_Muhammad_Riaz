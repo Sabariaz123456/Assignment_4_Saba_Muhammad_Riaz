{
  "nbformat": 4,
  "nbformat_minor": 0,
  "metadata": {
    "colab": {
      "provenance": [],
      "authorship_tag": "ABX9TyMYmuPCKS28MNqw7pzi8CkG",
      "include_colab_link": true
    },
    "kernelspec": {
      "name": "python3",
      "display_name": "Python 3"
    },
    "language_info": {
      "name": "python"
    }
  },
  "cells": [
    {
      "cell_type": "markdown",
      "metadata": {
        "id": "view-in-github",
        "colab_type": "text"
      },
      "source": [
        "<a href=\"https://colab.research.google.com/github/Sabariaz123456/Assignment_4_Saba_Muhammad_Riaz/blob/main/01-expression/04_pythagorean_theorem.ipynb\" target=\"_parent\"><img src=\"https://colab.research.google.com/assets/colab-badge.svg\" alt=\"Open In Colab\"/></a>"
      ]
    },
    {
      "cell_type": "markdown",
      "source": [
        "# **04_pythagorean_theorem**"
      ],
      "metadata": {
        "id": "fsx3oumBj_nr"
      }
    },
    {
      "cell_type": "code",
      "execution_count": 1,
      "metadata": {
        "colab": {
          "base_uri": "https://localhost:8080/"
        },
        "id": "_iKXvxnJj9xC",
        "outputId": "8ae0da74-6ee3-419e-8729-4b9a1a14b842"
      },
      "outputs": [
        {
          "output_type": "stream",
          "name": "stdout",
          "text": [
            "Enter the length of AB: 5\n",
            "Enter the length of AC: 6\n",
            "The length of BC (the hypotenuse) is: 7.81\n"
          ]
        }
      ],
      "source": [
        "\"\"\"\n",
        "Problem Statement:\n",
        "This program calculates the length of the hypotenuse (BC) of a right-angled triangle\n",
        "using the Pythagorean theorem. The user is prompted to input the lengths of the two\n",
        "perpendicular sides (AB and AC), and the program computes and displays the hypotenuse.\n",
        "\"\"\"\n",
        "\n",
        "import math  # Import the math library to use the sqrt function\n",
        "\n",
        "def main() -> None:\n",
        "    try:\n",
        "        # Get the two side lengths from the user and cast them to be numbers\n",
        "        ab: float = float(input(\"Enter the length of AB: \"))  # First perpendicular side\n",
        "        ac: float = float(input(\"Enter the length of AC: \"))  # Second perpendicular side\n",
        "\n",
        "        # Calculate the hypotenuse using the Pythagorean theorem: BC^2 = AB^2 + AC^2\n",
        "        bc: float = math.sqrt(ab**2 + ac**2)\n",
        "\n",
        "        # Display the result using an f-string, rounded to 2 decimal places for clarity\n",
        "        print(f\"The length of BC (the hypotenuse) is: {bc:.2f}\")\n",
        "\n",
        "    except ValueError:\n",
        "        # Handle non-numeric inputs gracefully\n",
        "        print(\"Invalid input! Please enter numeric values.\")\n",
        "\n",
        "# Ensure script runs only when executed directly\n",
        "if __name__ == '__main__':\n",
        "    main()\n"
      ]
    }
  ]
}