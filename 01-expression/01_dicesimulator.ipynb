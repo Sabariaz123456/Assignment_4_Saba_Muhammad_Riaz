{
  "nbformat": 4,
  "nbformat_minor": 0,
  "metadata": {
    "colab": {
      "provenance": [],
      "authorship_tag": "ABX9TyO6Ft4uvZSEofUfnzWFAJGz",
      "include_colab_link": true
    },
    "kernelspec": {
      "name": "python3",
      "display_name": "Python 3"
    },
    "language_info": {
      "name": "python"
    }
  },
  "cells": [
    {
      "cell_type": "markdown",
      "metadata": {
        "id": "view-in-github",
        "colab_type": "text"
      },
      "source": [
        "<a href=\"https://colab.research.google.com/github/Sabariaz123456/Assignment_4_Saba_Muhammad_Riaz/blob/main/01-expression/01_dicesimulator.ipynb\" target=\"_parent\"><img src=\"https://colab.research.google.com/assets/colab-badge.svg\" alt=\"Open In Colab\"/></a>"
      ]
    },
    {
      "cell_type": "markdown",
      "source": [
        "# **01_dicesimulator**"
      ],
      "metadata": {
        "id": "hbtwYU0ZbCk6"
      }
    },
    {
      "cell_type": "code",
      "execution_count": 1,
      "metadata": {
        "colab": {
          "base_uri": "https://localhost:8080/"
        },
        "id": "TCsD2mz-aYom",
        "outputId": "3070c72d-1bfd-4446-b33a-91de1dfb0242"
      },
      "outputs": [
        {
          "output_type": "stream",
          "name": "stdout",
          "text": [
            "die1 in main() starts as: 10\n",
            "Total of two dice: 7\n",
            "Total of two dice: 8\n",
            "Total of two dice: 12\n",
            "die1 in main() is: 10\n"
          ]
        }
      ],
      "source": [
        "\n",
        "# Problem Statement:\n",
        "# This program simulates rolling two six-sided dice and prints their total.\n",
        "# It demonstrates the concept of variable scope in Python by using local variables inside functions.\n",
        "# The main() function initializes a variable `die1`, prints its value, and calls roll_dice() three times.\n",
        "# roll_dice() generates two random numbers, sums them, and prints the total without affecting the variable in main().\n",
        "\n",
        "import random  # Import the random module to generate random numbers\n",
        "\n",
        "# Define the number of sides on each die\n",
        "NUM_SIDES = 6\n",
        "\n",
        "def roll_dice():\n",
        "    \"\"\"\n",
        "    Simulates rolling two six-sided dice and prints the total.\n",
        "    Demonstrates local variable scope.\n",
        "    \"\"\"\n",
        "    die1: int = random.randint(1, NUM_SIDES)  # Generate a random number (1 to 6) for the first die\n",
        "    die2: int = random.randint(1, NUM_SIDES)  # Generate a random number (1 to 6) for the second die\n",
        "    total: int = die1 + die2  # Calculate the sum of both dice\n",
        "    print(\"Total of two dice:\", total)  # Display the total of the dice roll\n",
        "\n",
        "def main():\n",
        "    \"\"\"\n",
        "    Main function to demonstrate variable scope.\n",
        "    Calls roll_dice() three times and shows how die1 in main remains unaffected.\n",
        "    \"\"\"\n",
        "    die1: int = 10  # Local variable die1 in main, independent of die1 in roll_dice()\n",
        "    print(\"die1 in main() starts as: \" + str(die1))  # Print initial value of die1 in main\n",
        "\n",
        "    # Call roll_dice() three times to simulate rolling dice\n",
        "    roll_dice()  # First dice roll\n",
        "    roll_dice()  # Second dice roll\n",
        "    roll_dice()  # Third dice roll\n",
        "\n",
        "    # Show that die1 in main() is unaffected by roll_dice()\n",
        "    print(\"die1 in main() is: \" + str(die1))  # Print final value of die1 in main\n",
        "\n",
        "# Run the main function when the script is executed\n",
        "if __name__ == \"__main__\":\n",
        "    main()\n",
        "\n"
      ]
    }
  ]
}