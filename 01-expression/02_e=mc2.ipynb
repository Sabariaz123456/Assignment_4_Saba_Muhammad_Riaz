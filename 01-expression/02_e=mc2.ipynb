{
  "nbformat": 4,
  "nbformat_minor": 0,
  "metadata": {
    "colab": {
      "provenance": [],
      "authorship_tag": "ABX9TyNPGUiZ8Lduku9JphzmEEpc",
      "include_colab_link": true
    },
    "kernelspec": {
      "name": "python3",
      "display_name": "Python 3"
    },
    "language_info": {
      "name": "python"
    }
  },
  "cells": [
    {
      "cell_type": "markdown",
      "metadata": {
        "id": "view-in-github",
        "colab_type": "text"
      },
      "source": [
        "<a href=\"https://colab.research.google.com/github/Sabariaz123456/Assignment_4_Saba_Muhammad_Riaz/blob/main/01-expression/02_e%3Dmc2.ipynb\" target=\"_parent\"><img src=\"https://colab.research.google.com/assets/colab-badge.svg\" alt=\"Open In Colab\"/></a>"
      ]
    },
    {
      "cell_type": "markdown",
      "source": [
        "# 02_e=**mc2** **bold text**"
      ],
      "metadata": {
        "id": "kGzRGOtfcgNV"
      }
    },
    {
      "cell_type": "code",
      "execution_count": null,
      "metadata": {
        "colab": {
          "base_uri": "https://localhost:8080/"
        },
        "id": "U4uhaQzdcdtt",
        "outputId": "7158aecd-28b7-4cf5-f5bf-0a7dba01e2a1"
      },
      "outputs": [
        {
          "output_type": "stream",
          "name": "stdout",
          "text": [
            "Enter kilos of mass: 67\n",
            "\n",
            "e = m * C^2...\n",
            "\n",
            "m = 67.0 kg\n",
            "C = 299792458 m/s\n",
            "6.021659697536678e+18 joules of energy!\n",
            "\n",
            "Enter kilos of mass: 67\n",
            "\n",
            "e = m * C^2...\n",
            "\n",
            "m = 67.0 kg\n",
            "C = 299792458 m/s\n",
            "6.021659697536678e+18 joules of energy!\n",
            "\n"
          ]
        }
      ],
      "source": [
        "\"\"\"\n",
        "Problem Statement:\n",
        "This program calculates the energy equivalent of a given mass using Einstein's famous equation:\n",
        "    E = m * C^2\n",
        "where:\n",
        "    - E is energy (in joules)\n",
        "    - m is mass (in kilograms)\n",
        "    - C is the speed of light (approximately 299,792,458 meters per second)\n",
        "The user inputs a mass value, and the program computes the corresponding energy output.\n",
        "\"\"\"\n",
        "\n",
        "# Speed of light constant in meters per second\n",
        "C = 299792458  # m/s\n",
        "\n",
        "def calculate_energy(mass):\n",
        "    \"\"\"\n",
        "    Calculates the energy equivalent of a given mass using the formula: E = m * C^2\n",
        "    :param mass: Mass in kilograms\n",
        "    :return: Energy in joules\n",
        "    \"\"\"\n",
        "    energy = mass * C**2\n",
        "    return energy\n",
        "\n",
        "def main():\n",
        "    \"\"\"\n",
        "    Main function that runs an interactive loop to accept mass input from the user,\n",
        "    calculate energy, and display the results.\n",
        "    \"\"\"\n",
        "    while True:\n",
        "        try:\n",
        "            # Take input from the user for mass in kilograms\n",
        "            mass = float(input(\"Enter kilos of mass: \"))\n",
        "\n",
        "            if mass <= 0:\n",
        "                print(\"Please enter a positive number for mass.\")\n",
        "                continue\n",
        "\n",
        "            # Calculate the energy using Einstein's equation\n",
        "            energy = calculate_energy(mass)\n",
        "\n",
        "            # Print out the results\n",
        "            print(\"\\ne = m * C^2...\\n\")\n",
        "            print(f\"m = {mass} kg\")\n",
        "            print(f\"C = {C} m/s\")\n",
        "            print(f\"{energy} joules of energy!\\n\")\n",
        "\n",
        "        except ValueError:\n",
        "            print(\"Invalid input. Please enter a valid number for mass.\")\n",
        "            continue\n",
        "\n",
        "if __name__ == '__main__':\n",
        "    main()"
      ]
    }
  ]
}