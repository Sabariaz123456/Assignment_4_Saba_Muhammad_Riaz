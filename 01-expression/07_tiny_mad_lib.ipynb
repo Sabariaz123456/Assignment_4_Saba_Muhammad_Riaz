{
  "nbformat": 4,
  "nbformat_minor": 0,
  "metadata": {
    "colab": {
      "provenance": [],
      "authorship_tag": "ABX9TyMdszPD/QgBduBWvkE0rTP+",
      "include_colab_link": true
    },
    "kernelspec": {
      "name": "python3",
      "display_name": "Python 3"
    },
    "language_info": {
      "name": "python"
    }
  },
  "cells": [
    {
      "cell_type": "markdown",
      "metadata": {
        "id": "view-in-github",
        "colab_type": "text"
      },
      "source": [
        "<a href=\"https://colab.research.google.com/github/Sabariaz123456/Assignment_4_Saba_Muhammad_Riaz/blob/main/01-expression/07_tiny_mad_lib.ipynb\" target=\"_parent\"><img src=\"https://colab.research.google.com/assets/colab-badge.svg\" alt=\"Open In Colab\"/></a>"
      ]
    },
    {
      "cell_type": "markdown",
      "source": [
        "# **07_tiny_mad_lib**"
      ],
      "metadata": {
        "id": "xvFwX91jntcF"
      }
    },
    {
      "cell_type": "code",
      "execution_count": 1,
      "metadata": {
        "colab": {
          "base_uri": "https://localhost:8080/"
        },
        "id": "mq7Eh8lynsO8",
        "outputId": "68990354-12ee-4c23-f277-48454d545c92"
      },
      "outputs": [
        {
          "output_type": "stream",
          "name": "stdout",
          "text": [
            "Please type an adjective and press enter: Good\n",
            "Please type a noun and press enter: Saba Muhammad\n",
            "Please type a verb and press enter: Work\n",
            "Panaversity is fun. I learned to program and used Python to make my Good Saba Muhammad Work!\n"
          ]
        }
      ],
      "source": [
        "\"\"\"\n",
        "Problem Statement:\n",
        "This script generates an ad-lib style sentence by prompting the user for an adjective, a noun, and a verb.\n",
        "It then combines these words into a predefined sentence structure and displays the result.\n",
        "\"\"\"\n",
        "\n",
        "# Define the sentence start template\n",
        "SENTENCE_START: str = \"Panaversity is fun. I learned to program and used Python to make my \"  # adjective noun verb\n",
        "\n",
        "def main() -> None:\n",
        "    \"\"\"\n",
        "    Prompts the user for an adjective, noun, and verb, then constructs and prints a sentence.\n",
        "    \"\"\"\n",
        "    # Get the three inputs from the user and strip whitespace\n",
        "    adjective: str = input(\"Please type an adjective and press enter: \").strip()\n",
        "    noun: str = input(\"Please type a noun and press enter: \").strip()\n",
        "    verb: str = input(\"Please type a verb and press enter: \").strip()\n",
        "\n",
        "    # Construct the final sentence\n",
        "    print(f\"{SENTENCE_START}{adjective} {noun} {verb}!\")\n",
        "\n",
        "# Ensure script runs only when executed directly\n",
        "if __name__ == '__main__':\n",
        "    main()\n"
      ]
    }
  ]
}