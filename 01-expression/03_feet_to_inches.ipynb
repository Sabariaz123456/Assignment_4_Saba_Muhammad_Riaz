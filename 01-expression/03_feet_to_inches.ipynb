{
  "nbformat": 4,
  "nbformat_minor": 0,
  "metadata": {
    "colab": {
      "provenance": [],
      "authorship_tag": "ABX9TyMbmkRY1Qf6dWTKDd+0dnc1",
      "include_colab_link": true
    },
    "kernelspec": {
      "name": "python3",
      "display_name": "Python 3"
    },
    "language_info": {
      "name": "python"
    }
  },
  "cells": [
    {
      "cell_type": "markdown",
      "metadata": {
        "id": "view-in-github",
        "colab_type": "text"
      },
      "source": [
        "<a href=\"https://colab.research.google.com/github/Sabariaz123456/Assignment_4_Saba_Muhammad_Riaz/blob/main/01-expression/03_feet_to_inches.ipynb\" target=\"_parent\"><img src=\"https://colab.research.google.com/assets/colab-badge.svg\" alt=\"Open In Colab\"/></a>"
      ]
    },
    {
      "cell_type": "markdown",
      "source": [
        "# **03_feet_to_inches**"
      ],
      "metadata": {
        "id": "PufoUefMeCqg"
      }
    },
    {
      "cell_type": "code",
      "execution_count": 1,
      "metadata": {
        "colab": {
          "base_uri": "https://localhost:8080/"
        },
        "id": "_I09hq8Dd9rP",
        "outputId": "c4079921-4bbb-45d8-b0c8-b2baa8a3b6e5"
      },
      "outputs": [
        {
          "output_type": "stream",
          "name": "stdout",
          "text": [
            "Enter number of feet: 67\n",
            "That is 804.0 inches!\n"
          ]
        }
      ],
      "source": [
        "\"\"\"\n",
        "Problem Statement:\n",
        "This program converts a given length in feet to inches.\n",
        "The user inputs a value in feet, and the program calculates the equivalent length in inches\n",
        "using the conversion factor: 1 foot = 12 inches.\n",
        "If the user enters an invalid input (non-numeric value), the program handles the error gracefully.\n",
        "\"\"\"\n",
        "\n",
        "# Conversion factor: 1 foot equals 12 inches\n",
        "INCHES_IN_FOOT: int = 12\n",
        "\n",
        "def main() -> None:\n",
        "    \"\"\"\n",
        "    Main function to take user input, perform conversion, and display output.\n",
        "    Handles invalid input using exception handling.\n",
        "    \"\"\"\n",
        "    try:\n",
        "        # Get user input for feet and ensure it is a valid float value\n",
        "        feet: float = float(input(\"Enter number of feet: \"))\n",
        "\n",
        "        # Perform the conversion from feet to inches\n",
        "        inches: float = feet * INCHES_IN_FOOT\n",
        "\n",
        "        # Display the result using formatted string\n",
        "        print(f\"That is {inches} inches!\")\n",
        "    except ValueError:\n",
        "        # Handle cases where input is not a valid number\n",
        "        print(\"Invalid input! Please enter a numeric value.\")\n",
        "\n",
        "# Ensures the script runs only when executed directly\n",
        "if __name__ == '__main__':\n",
        "    main()"
      ]
    }
  ]
}