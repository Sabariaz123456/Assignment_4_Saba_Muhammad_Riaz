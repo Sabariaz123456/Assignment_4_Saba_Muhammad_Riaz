{
  "nbformat": 4,
  "nbformat_minor": 0,
  "metadata": {
    "colab": {
      "provenance": [],
      "authorship_tag": "ABX9TyNmL4AFXUwRGB8zMHEOgnwo",
      "include_colab_link": true
    },
    "kernelspec": {
      "name": "python3",
      "display_name": "Python 3"
    },
    "language_info": {
      "name": "python"
    }
  },
  "cells": [
    {
      "cell_type": "markdown",
      "metadata": {
        "id": "view-in-github",
        "colab_type": "text"
      },
      "source": [
        "<a href=\"https://colab.research.google.com/github/Sabariaz123456/Assignment_4_Saba_Muhammad_Riaz/blob/main/01-expression/06_rolldice.ipynb\" target=\"_parent\"><img src=\"https://colab.research.google.com/assets/colab-badge.svg\" alt=\"Open In Colab\"/></a>"
      ]
    },
    {
      "cell_type": "markdown",
      "source": [
        "# **06_rolldice**"
      ],
      "metadata": {
        "id": "ggWl2I7ZmQ2X"
      }
    },
    {
      "cell_type": "code",
      "execution_count": 1,
      "metadata": {
        "colab": {
          "base_uri": "https://localhost:8080/"
        },
        "id": "L4FG2rRRmNuF",
        "outputId": "49914535-1c37-4a88-95c0-2b042c925ac5"
      },
      "outputs": [
        {
          "output_type": "stream",
          "name": "stdout",
          "text": [
            "Dice have 6 sides each.\n",
            "First die: 1\n",
            "Second die: 2\n",
            "Total of two dice: 3\n"
          ]
        }
      ],
      "source": [
        "\"\"\"\n",
        "Problem Statement:\n",
        "Simulate rolling two six-sided dice and display the results of each die roll\n",
        "along with their total. Optionally, allow setting a seed for reproducibility.\n",
        "\"\"\"\n",
        "\n",
        "# Import the random library to simulate rolling dice\n",
        "import random\n",
        "\n",
        "# Number of sides on each die\n",
        "NUM_SIDES: int = 6\n",
        "\n",
        "def main(seed: int | None = None) -> None:\n",
        "    \"\"\"\n",
        "    Simulates rolling two dice and prints the results.\n",
        "\n",
        "    Args:\n",
        "        seed (int | None): Optional seed value for reproducibility.\n",
        "    \"\"\"\n",
        "    # Setting a seed ensures the same random results for debugging purposes\n",
        "    if seed is not None:\n",
        "        random.seed(seed)\n",
        "\n",
        "    # Roll the dice by generating random integers between 1 and NUM_SIDES\n",
        "    die1: int = random.randint(1, NUM_SIDES)\n",
        "    die2: int = random.randint(1, NUM_SIDES)\n",
        "\n",
        "    # Calculate the total of both dice\n",
        "    total: int = die1 + die2\n",
        "\n",
        "    # Print results using f-strings for better readability\n",
        "    print(f\"Dice have {NUM_SIDES} sides each.\")\n",
        "    print(f\"First die: {die1}\")\n",
        "    print(f\"Second die: {die2}\")\n",
        "    print(f\"Total of two dice: {total}\")\n",
        "\n",
        "# Ensure script runs only when executed directly\n",
        "if __name__ == '__main__':\n",
        "    main()\n"
      ]
    }
  ]
}