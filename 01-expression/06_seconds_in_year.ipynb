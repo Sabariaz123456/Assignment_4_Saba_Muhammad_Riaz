{
  "nbformat": 4,
  "nbformat_minor": 0,
  "metadata": {
    "colab": {
      "provenance": [],
      "authorship_tag": "ABX9TyN97AZXK5VQeP1bVbZw4BNq",
      "include_colab_link": true
    },
    "kernelspec": {
      "name": "python3",
      "display_name": "Python 3"
    },
    "language_info": {
      "name": "python"
    }
  },
  "cells": [
    {
      "cell_type": "markdown",
      "metadata": {
        "id": "view-in-github",
        "colab_type": "text"
      },
      "source": [
        "<a href=\"https://colab.research.google.com/github/Sabariaz123456/Assignment_4_Saba_Muhammad_Riaz/blob/main/01-expression/06_seconds_in_year.ipynb\" target=\"_parent\"><img src=\"https://colab.research.google.com/assets/colab-badge.svg\" alt=\"Open In Colab\"/></a>"
      ]
    },
    {
      "cell_type": "markdown",
      "source": [
        "# **06_seconds_in_year**"
      ],
      "metadata": {
        "id": "9djP3REcm5PY"
      }
    },
    {
      "cell_type": "code",
      "execution_count": 1,
      "metadata": {
        "colab": {
          "base_uri": "https://localhost:8080/"
        },
        "id": "kc2MMMMIm3_c",
        "outputId": "7669967c-0d50-4b12-fb02-1316743ab138"
      },
      "outputs": [
        {
          "output_type": "stream",
          "name": "stdout",
          "text": [
            "There are 31536000 seconds in a year!\n"
          ]
        }
      ],
      "source": [
        "\"\"\"\n",
        "Problem Statement:\n",
        "Write a Python program that calculates the total number of seconds in a year.\n",
        "Use predefined constants to improve readability and maintainability of the code.\n",
        "\"\"\"\n",
        "\n",
        "# Useful constants to help make the math easier and cleaner\n",
        "DAYS_PER_YEAR: int = 365  # Number of days in a year\n",
        "HOURS_PER_DAY: int = 24   # Number of hours in a day\n",
        "MIN_PER_HOUR: int = 60    # Number of minutes in an hour\n",
        "SEC_PER_MIN: int = 60     # Number of seconds in a minute\n",
        "\n",
        "def main() -> None:\n",
        "    \"\"\"\n",
        "    Calculates and prints the number of seconds in a year using predefined constants.\n",
        "    \"\"\"\n",
        "    # Calculate the number of seconds in a year\n",
        "    seconds_per_year: int = DAYS_PER_YEAR * HOURS_PER_DAY * MIN_PER_HOUR * SEC_PER_MIN\n",
        "\n",
        "    # Print the result using an f-string\n",
        "    print(f\"There are {seconds_per_year} seconds in a year!\")\n",
        "\n",
        "# Ensure script runs only when executed directly\n",
        "if __name__ == '__main__':\n",
        "    main()\n"
      ]
    }
  ]
}