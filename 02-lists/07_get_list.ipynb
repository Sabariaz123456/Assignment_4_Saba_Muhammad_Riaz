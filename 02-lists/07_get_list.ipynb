{
  "nbformat": 4,
  "nbformat_minor": 0,
  "metadata": {
    "colab": {
      "provenance": [],
      "authorship_tag": "ABX9TyOFNnYwoufsm4v24AXqHomt",
      "include_colab_link": true
    },
    "kernelspec": {
      "name": "python3",
      "display_name": "Python 3"
    },
    "language_info": {
      "name": "python"
    }
  },
  "cells": [
    {
      "cell_type": "markdown",
      "metadata": {
        "id": "view-in-github",
        "colab_type": "text"
      },
      "source": [
        "<a href=\"https://colab.research.google.com/github/Sabariaz123456/Assignment_4_Saba_Muhammad_Riaz/blob/main/02-lists/07_get_list.ipynb\" target=\"_parent\"><img src=\"https://colab.research.google.com/assets/colab-badge.svg\" alt=\"Open In Colab\"/></a>"
      ]
    },
    {
      "cell_type": "markdown",
      "source": [
        "# **07_get_list**"
      ],
      "metadata": {
        "id": "Y889laD9vGUj"
      }
    },
    {
      "cell_type": "code",
      "execution_count": 1,
      "metadata": {
        "colab": {
          "base_uri": "https://localhost:8080/"
        },
        "id": "UVeKOYt7vADg",
        "outputId": "61b1e5d7-99f7-4190-a52c-884dec91de9c"
      },
      "outputs": [
        {
          "output_type": "stream",
          "name": "stdout",
          "text": [
            "Enter a value: 45\n",
            "Enter a value: 67\n",
            "Enter a value: 77\n",
            "Enter a value: \n",
            "Here's the list: ['45', '67', '77']\n"
          ]
        }
      ],
      "source": [
        "def main():\n",
        "    lst = []  # Initialize an empty list to store user inputs\n",
        "\n",
        "    val = input(\"Enter a value: \")  # Prompt the user for input\n",
        "    while val:  # Continue loop until the user enters an empty value\n",
        "        lst.append(val)  # Add the input value to the list\n",
        "        val = input(\"Enter a value: \")  # Prompt for the next input\n",
        "\n",
        "    print(\"Here's the list:\", lst)  # Display the final list of entered values\n",
        "\n",
        "# The program starts execution from here\n",
        "if __name__ == '__main__':\n",
        "    main()\n"
      ]
    }
  ]
}