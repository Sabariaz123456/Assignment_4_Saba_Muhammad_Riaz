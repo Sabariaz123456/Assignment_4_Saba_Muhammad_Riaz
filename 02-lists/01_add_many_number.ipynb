{
  "nbformat": 4,
  "nbformat_minor": 0,
  "metadata": {
    "colab": {
      "provenance": [],
      "authorship_tag": "ABX9TyPKt/FnIOlcntYEIqi6AYbH",
      "include_colab_link": true
    },
    "kernelspec": {
      "name": "python3",
      "display_name": "Python 3"
    },
    "language_info": {
      "name": "python"
    }
  },
  "cells": [
    {
      "cell_type": "markdown",
      "metadata": {
        "id": "view-in-github",
        "colab_type": "text"
      },
      "source": [
        "<a href=\"https://colab.research.google.com/github/Sabariaz123456/Assignment_4_Saba_Muhammad_Riaz/blob/main/02-lists/01_add_many_number.ipynb\" target=\"_parent\"><img src=\"https://colab.research.google.com/assets/colab-badge.svg\" alt=\"Open In Colab\"/></a>"
      ]
    },
    {
      "cell_type": "markdown",
      "source": [
        "# **01_add_many_number**"
      ],
      "metadata": {
        "id": "JOtWHaw2pGyI"
      }
    },
    {
      "cell_type": "code",
      "execution_count": 1,
      "metadata": {
        "colab": {
          "base_uri": "https://localhost:8080/"
        },
        "id": "wY_ZQFmRpD6z",
        "outputId": "59e8657b-9737-4df6-bd5b-9d571635f293"
      },
      "outputs": [
        {
          "output_type": "stream",
          "name": "stdout",
          "text": [
            "15\n"
          ]
        }
      ],
      "source": [
        "# Problem Statement:\n",
        "# This program calculates the sum of numbers in a list.\n",
        "# It defines a function 'add_many_numbers' that takes a list of numbers as input and returns\n",
        "# the sum of these numbers. The 'main' function initializes a list, computes its sum using\n",
        "# the function, and prints the result.\n",
        "\n",
        "def add_many_numbers(numbers) -> int:\n",
        "    \"\"\"\n",
        "    Takes in a list of numbers and returns the sum of those numbers.\n",
        "    \"\"\"\n",
        "    total_so_far: int = 0  # Initialize the total sum to zero\n",
        "    for number in numbers:\n",
        "        total_so_far += number  # Add each number to the running total\n",
        "\n",
        "    return total_so_far  # Return the computed sum\n",
        "\n",
        "# There is no need to edit code beyond this point\n",
        "\n",
        "def main():\n",
        "    # Create a list of numbers\n",
        "    numbers: list[int] = [1, 2, 3, 4, 5]\n",
        "    # Calculate the sum of the numbers in the list using the add_many_numbers function\n",
        "    sum_of_numbers: int = add_many_numbers(numbers)\n",
        "    # Print the calculated sum\n",
        "    print(sum_of_numbers)\n",
        "\n",
        "if __name__ == '__main__':\n",
        "    main()\n"
      ]
    }
  ]
}