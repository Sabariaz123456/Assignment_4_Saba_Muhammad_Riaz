{
  "nbformat": 4,
  "nbformat_minor": 0,
  "metadata": {
    "colab": {
      "provenance": [],
      "authorship_tag": "ABX9TyNHJM49IznlSA6GXS8bw813",
      "include_colab_link": true
    },
    "kernelspec": {
      "name": "python3",
      "display_name": "Python 3"
    },
    "language_info": {
      "name": "python"
    }
  },
  "cells": [
    {
      "cell_type": "markdown",
      "metadata": {
        "id": "view-in-github",
        "colab_type": "text"
      },
      "source": [
        "<a href=\"https://colab.research.google.com/github/Sabariaz123456/Assignment_4_Saba_Muhammad_Riaz/blob/main/02-lists/05_get_first_element.ipynb\" target=\"_parent\"><img src=\"https://colab.research.google.com/assets/colab-badge.svg\" alt=\"Open In Colab\"/></a>"
      ]
    },
    {
      "cell_type": "markdown",
      "source": [
        "# **05_get_first_element**"
      ],
      "metadata": {
        "id": "LQkRcopotc1S"
      }
    },
    {
      "cell_type": "code",
      "execution_count": 1,
      "metadata": {
        "colab": {
          "base_uri": "https://localhost:8080/"
        },
        "id": "UkdiPFZqtVEu",
        "outputId": "fb619b81-7086-4b43-f9b5-756242602cdb"
      },
      "outputs": [
        {
          "output_type": "stream",
          "name": "stdout",
          "text": [
            "Please enter an element of the list or press enter to stop. 6\n",
            "Please enter an element of the list or press enter to stop. 7\n",
            "Please enter an element of the list or press enter to stop. 8\n",
            "Please enter an element of the list or press enter to stop. \n",
            "6\n"
          ]
        }
      ],
      "source": [
        "def get_first_element(lst):\n",
        "    \"\"\"\n",
        "    Prints the first element of a provided list.\n",
        "    \"\"\"\n",
        "    # Print the first element of the list\n",
        "    print(lst[0])\n",
        "\n",
        "\n",
        "# There is no need to edit code beyond this point\n",
        "\n",
        "def get_lst():\n",
        "    \"\"\"\n",
        "    Prompts the user to enter one element of the list at a time and returns the resulting list.\n",
        "    \"\"\"\n",
        "    lst = []  # Initialize an empty list\n",
        "\n",
        "    # Ask user to input elements one by one\n",
        "    elem: str = input(\"Please enter an element of the list or press enter to stop. \")\n",
        "    while elem != \"\":\n",
        "        lst.append(elem)  # Append the entered element to the list\n",
        "        elem = input(\"Please enter an element of the list or press enter to stop. \")  # Ask for the next element\n",
        "\n",
        "    return lst  # Return the final list\n",
        "\n",
        "\n",
        "def main():\n",
        "    \"\"\"\n",
        "    Main function to execute the program.\n",
        "    \"\"\"\n",
        "    lst = get_lst()  # Get the list from user input\n",
        "    get_first_element(lst)  # Print the first element of the list\n",
        "\n",
        "\n",
        "if __name__ == '__main__':\n",
        "    main()  # Call the main function if the script is run directly\n"
      ]
    }
  ]
}