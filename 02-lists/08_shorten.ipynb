{
  "nbformat": 4,
  "nbformat_minor": 0,
  "metadata": {
    "colab": {
      "provenance": [],
      "authorship_tag": "ABX9TyP+OakiyKYeNNetSYqE+RDG",
      "include_colab_link": true
    },
    "kernelspec": {
      "name": "python3",
      "display_name": "Python 3"
    },
    "language_info": {
      "name": "python"
    }
  },
  "cells": [
    {
      "cell_type": "markdown",
      "metadata": {
        "id": "view-in-github",
        "colab_type": "text"
      },
      "source": [
        "<a href=\"https://colab.research.google.com/github/Sabariaz123456/Assignment_4_Saba_Muhammad_Riaz/blob/main/02-lists/08_shorten.ipynb\" target=\"_parent\"><img src=\"https://colab.research.google.com/assets/colab-badge.svg\" alt=\"Open In Colab\"/></a>"
      ]
    },
    {
      "cell_type": "markdown",
      "source": [
        "# **08_shorten**"
      ],
      "metadata": {
        "id": "WPP_XTe7wBNV"
      }
    },
    {
      "cell_type": "code",
      "execution_count": 4,
      "metadata": {
        "colab": {
          "base_uri": "https://localhost:8080/"
        },
        "id": "tsbjyzLYv71e",
        "outputId": "9256fcd5-7b6e-4c1f-d6c7-45c8ac5039a8"
      },
      "outputs": [
        {
          "output_type": "stream",
          "name": "stdout",
          "text": [
            "Enter an element (or press Enter to finish): saba\n",
            "Enter an element (or press Enter to finish): riaz\n",
            "Enter an element (or press Enter to finish): rani\n",
            "Enter an element (or press Enter to finish): \n",
            "\n",
            "Original List: ['saba', 'riaz', 'rani']\n",
            "Final List: ['saba', 'riaz', 'rani']\n"
          ]
        }
      ],
      "source": [
        "# Maximum allowed length of the list\n",
        "MAX_LENGTH: int = 3\n",
        "\n",
        "def shorten(lst: list[str]) -> None:\n",
        "    \"\"\"\n",
        "    Reduces the size of the list to MAX_LENGTH by removing elements from the end.\n",
        "    Prints each removed element.\n",
        "    \"\"\"\n",
        "    while len(lst) > MAX_LENGTH:\n",
        "        print(f\"Removing: {lst.pop()}\")  # Print removed element\n",
        "\n",
        "def get_lst() -> list[str]:\n",
        "    \"\"\"\n",
        "    Prompts the user to enter elements one at a time and returns the created list.\n",
        "    The user can stop input by pressing Enter without entering a value.\n",
        "    \"\"\"\n",
        "    lst = []  # Initialize empty list\n",
        "    while True:\n",
        "        elem = input(\"Enter an element (or press Enter to finish): \").strip()\n",
        "        if not elem:  # Stop if input is empty\n",
        "            break\n",
        "        lst.append(elem)  # Add element to the list\n",
        "    return lst\n",
        "\n",
        "def main() -> None:\n",
        "    \"\"\"\n",
        "    Main function to get user input and shorten the list if necessary.\n",
        "    Displays the final list after processing.\n",
        "    \"\"\"\n",
        "    lst = get_lst()  # Get list from user\n",
        "    print(\"\\nOriginal List:\", lst)  # Show original list\n",
        "    shorten(lst)  # Shorten the list if needed\n",
        "    print(\"Final List:\", lst)  # Show final list after shortening\n",
        "\n",
        "if __name__ == '__main__':\n",
        "    main()  # Execute main function\n",
        "\n"
      ]
    },
    {
      "cell_type": "code",
      "source": [],
      "metadata": {
        "id": "3j-6Eq3MwL2B"
      },
      "execution_count": null,
      "outputs": []
    }
  ]
}