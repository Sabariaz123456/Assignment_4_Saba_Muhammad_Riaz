{
  "nbformat": 4,
  "nbformat_minor": 0,
  "metadata": {
    "colab": {
      "provenance": [],
      "authorship_tag": "ABX9TyO1PCM5PXjjW+9baGFREYt8",
      "include_colab_link": true
    },
    "kernelspec": {
      "name": "python3",
      "display_name": "Python 3"
    },
    "language_info": {
      "name": "python"
    }
  },
  "cells": [
    {
      "cell_type": "markdown",
      "metadata": {
        "id": "view-in-github",
        "colab_type": "text"
      },
      "source": [
        "<a href=\"https://colab.research.google.com/github/Sabariaz123456/Assignment_4_Saba_Muhammad_Riaz/blob/main/02-lists/06_get_last_element.ipynb\" target=\"_parent\"><img src=\"https://colab.research.google.com/assets/colab-badge.svg\" alt=\"Open In Colab\"/></a>"
      ]
    },
    {
      "cell_type": "markdown",
      "source": [
        "# **06_get_last_element**"
      ],
      "metadata": {
        "id": "cON8wacduBsT"
      }
    },
    {
      "cell_type": "code",
      "execution_count": 2,
      "metadata": {
        "colab": {
          "base_uri": "https://localhost:8080/"
        },
        "id": "HXUXEJcct9Qq",
        "outputId": "881b085f-a9f6-41b2-a3d0-cc9d304f7c9a"
      },
      "outputs": [
        {
          "output_type": "stream",
          "name": "stdout",
          "text": [
            "Please enter an element of the list or press Enter to stop: 7\n",
            "Please enter an element of the list or press Enter to stop: 7\n",
            "Please enter an element of the list or press Enter to stop: 8\n",
            "Please enter an element of the list or press Enter to stop: \n",
            "The last element of the list is: 8\n"
          ]
        }
      ],
      "source": [
        "\"\"\"\n",
        "Problem Statement:\n",
        "This script prompts the user to input elements into a list one at a time.\n",
        "Once the user stops entering elements, the program prints the last element of the list.\n",
        "\n",
        "Functions:\n",
        "1. get_last_element(lst):\n",
        "   - Takes a list as input and prints its last element.\n",
        "   - Demonstrates two ways to access the last element (via index calculation and negative indexing).\n",
        "\n",
        "2. get_lst():\n",
        "   - Continuously prompts the user to enter elements into a list until they press Enter without typing anything.\n",
        "   - Returns the final list of entered elements.\n",
        "\n",
        "3. main():\n",
        "   - Calls get_lst() to get the user input list.\n",
        "   - Calls get_last_element() to print the last element of the list.\n",
        "\"\"\"\n",
        "\n",
        "def get_last_element(lst):\n",
        "    \"\"\"\n",
        "    Prints the last element of the provided list.\n",
        "    \"\"\"\n",
        "    if lst:  # Ensuring the list is not empty to avoid an error\n",
        "        # Option 1: Using len(lst) - 1 to access the last element\n",
        "        print(\"The last element of the list is:\", lst[len(lst) - 1])\n",
        "\n",
        "        # Option 2: Simpler and cleaner way using negative indexing (uncomment if preferred)\n",
        "        # print(\"The last element of the list is:\", lst[-1])\n",
        "    else:\n",
        "        print(\"The list is empty. No last element to display.\")\n",
        "\n",
        "def get_lst():\n",
        "    \"\"\"\n",
        "    Prompts the user to enter one element of the list at a time and returns the resulting list.\n",
        "    \"\"\"\n",
        "    lst = []  # Initializing an empty list\n",
        "\n",
        "    # Prompt user for input\n",
        "    elem = input(\"Please enter an element of the list or press Enter to stop: \")\n",
        "\n",
        "    while elem != \"\":  # Continue until the user presses Enter without input\n",
        "        lst.append(elem)  # Add element to list\n",
        "        elem = input(\"Please enter an element of the list or press Enter to stop: \")\n",
        "\n",
        "    return lst  # Return the final list\n",
        "\n",
        "def main():\n",
        "    \"\"\"\n",
        "    Main function to run the script.\n",
        "    \"\"\"\n",
        "    lst = get_lst()  # Get the list from the user\n",
        "    get_last_element(lst)  # Call function to print the last element\n",
        "\n",
        "# This line ensures the main function is called when the script runs directly\n",
        "if __name__ == \"__main__\":  # ✅ Corrected __name__ check\n",
        "    main()\n"
      ]
    }
  ]
}