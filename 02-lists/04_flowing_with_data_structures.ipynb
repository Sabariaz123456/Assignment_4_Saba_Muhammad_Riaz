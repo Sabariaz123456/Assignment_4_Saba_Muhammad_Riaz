{
  "nbformat": 4,
  "nbformat_minor": 0,
  "metadata": {
    "colab": {
      "provenance": [],
      "authorship_tag": "ABX9TyM/hswae/0oZ41xCy04LzKi",
      "include_colab_link": true
    },
    "kernelspec": {
      "name": "python3",
      "display_name": "Python 3"
    },
    "language_info": {
      "name": "python"
    }
  },
  "cells": [
    {
      "cell_type": "markdown",
      "metadata": {
        "id": "view-in-github",
        "colab_type": "text"
      },
      "source": [
        "<a href=\"https://colab.research.google.com/github/Sabariaz123456/Assignment_4_Saba_Muhammad_Riaz/blob/main/02-lists/04_flowing_with_data_structures.ipynb\" target=\"_parent\"><img src=\"https://colab.research.google.com/assets/colab-badge.svg\" alt=\"Open In Colab\"/></a>"
      ]
    },
    {
      "cell_type": "markdown",
      "source": [
        "# **04_flowing_with_data_structures**"
      ],
      "metadata": {
        "id": "EMN7F7_9s23k"
      }
    },
    {
      "cell_type": "code",
      "execution_count": 1,
      "metadata": {
        "colab": {
          "base_uri": "https://localhost:8080/"
        },
        "id": "IfQorK-dstVj",
        "outputId": "3b52818f-9e7d-4d3e-872d-0d02e0eed8da"
      },
      "outputs": [
        {
          "output_type": "stream",
          "name": "stdout",
          "text": [
            "Enter a message to copy: saba\n",
            "List before: []\n",
            "List after: ['saba', 'saba', 'saba']\n"
          ]
        }
      ],
      "source": [
        "# Problem Statement:\n",
        "# Write a function that takes a list and a data value as input and adds three copies of the data value to the list.\n",
        "# The program should take user input and demonstrate the function's behavior.\n",
        "\n",
        "# Function to add three copies of data to the given list\n",
        "def add_three_copies(my_list, data):\n",
        "    for i in range(3):  # Loop runs three times\n",
        "        my_list.append(data)  # Appends data to the list\n",
        "\n",
        "########## No need to edit code past this point ##########\n",
        "\n",
        "def main():\n",
        "    message = input(\"Enter a message to copy: \")  # Taking user input\n",
        "    my_list = []  # Initializing an empty list\n",
        "    print(\"List before:\", my_list)  # Displaying the list before modification\n",
        "    add_three_copies(my_list, message)  # Calling the function to modify the list\n",
        "    print(\"List after:\", my_list)  # Displaying the list after modification\n",
        "\n",
        "if __name__ == \"__main__\":\n",
        "    main()  # Running the main function\n"
      ]
    }
  ]
}