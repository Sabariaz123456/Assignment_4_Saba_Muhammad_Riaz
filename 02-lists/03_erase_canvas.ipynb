{
  "nbformat": 4,
  "nbformat_minor": 0,
  "metadata": {
    "colab": {
      "provenance": [],
      "authorship_tag": "ABX9TyMzsabSc/h/7FmQ6OzsSgUn",
      "include_colab_link": true
    },
    "kernelspec": {
      "name": "python3",
      "display_name": "Python 3"
    },
    "language_info": {
      "name": "python"
    }
  },
  "cells": [
    {
      "cell_type": "markdown",
      "metadata": {
        "id": "view-in-github",
        "colab_type": "text"
      },
      "source": [
        "<a href=\"https://colab.research.google.com/github/Sabariaz123456/Assignment_4_Saba_Muhammad_Riaz/blob/main/02-lists/03_erase_canvas.ipynb\" target=\"_parent\"><img src=\"https://colab.research.google.com/assets/colab-badge.svg\" alt=\"Open In Colab\"/></a>"
      ]
    },
    {
      "cell_type": "markdown",
      "source": [
        "# **03_erase_canvas**"
      ],
      "metadata": {
        "id": "ItCoZvdqqhZj"
      }
    },
    {
      "cell_type": "code",
      "execution_count": null,
      "metadata": {
        "id": "R85hy8s6qdpV"
      },
      "outputs": [],
      "source": [
        "\"\"\"\n",
        "Problem Statement:\n",
        "This program creates a Tkinter canvas filled with a grid of blue cells. It implements an eraser\n",
        "that follows the mouse cursor and erases (changes to white) any blue cells it touches.\n",
        "The eraser is represented by a pink square.\n",
        "\"\"\"\n",
        "\n",
        "import tkinter as tk\n",
        "\n",
        "# Constants for canvas and eraser settings\n",
        "CANVAS_WIDTH = 400\n",
        "CANVAS_HEIGHT = 400\n",
        "CELL_SIZE = 40  # Size of each grid cell\n",
        "ERASER_SIZE = 20  # Size of the eraser\n",
        "\n",
        "def erase_objects(canvas, eraser):\n",
        "    \"\"\"Erase objects (change their color to white) that come in contact with the eraser.\"\"\"\n",
        "    # Get mouse position relative to the canvas\n",
        "    mouse_x = canvas.winfo_pointerx() - canvas.winfo_rootx()\n",
        "    mouse_y = canvas.winfo_pointery() - canvas.winfo_rooty()\n",
        "\n",
        "    # Define eraser's bounding box\n",
        "    left_x = mouse_x - ERASER_SIZE // 2\n",
        "    top_y = mouse_y - ERASER_SIZE // 2\n",
        "    right_x = left_x + ERASER_SIZE\n",
        "    bottom_y = top_y + ERASER_SIZE\n",
        "\n",
        "    # Identify objects overlapping with the eraser\n",
        "    overlapping_objects = canvas.find_overlapping(left_x, top_y, right_x, bottom_y)\n",
        "\n",
        "    # Change the fill color of overlapping objects to white (simulate erasing)\n",
        "    for overlapping_object in overlapping_objects:\n",
        "        canvas.itemconfig(overlapping_object, fill=\"white\")\n",
        "\n",
        "def main():\n",
        "    \"\"\"Main function to create the Tkinter window and canvas.\"\"\"\n",
        "    root = tk.Tk()\n",
        "    root.title(\"Canvas with Eraser\")\n",
        "\n",
        "    # Create canvas\n",
        "    canvas = tk.Canvas(root, width=CANVAS_WIDTH, height=CANVAS_HEIGHT)\n",
        "    canvas.pack()\n",
        "\n",
        "    # Draw a grid of blue cells\n",
        "    num_rows = CANVAS_HEIGHT // CELL_SIZE\n",
        "    num_cols = CANVAS_WIDTH // CELL_SIZE\n",
        "\n",
        "    for row in range(num_rows):\n",
        "        for col in range(num_cols):\n",
        "            left_x = col * CELL_SIZE\n",
        "            top_y = row * CELL_SIZE\n",
        "            right_x = left_x + CELL_SIZE\n",
        "            bottom_y = top_y + CELL_SIZE\n",
        "            canvas.create_rectangle(left_x, top_y, right_x, bottom_y, fill=\"blue\")\n",
        "\n",
        "    # Create an eraser (represented as a pink square initially)\n",
        "    eraser = canvas.create_rectangle(0, 0, ERASER_SIZE, ERASER_SIZE, fill=\"pink\")\n",
        "\n",
        "    def move_eraser(event):\n",
        "        \"\"\"Move the eraser to the current mouse position and erase touching cells.\"\"\"\n",
        "        canvas.coords(eraser, event.x - ERASER_SIZE // 2, event.y - ERASER_SIZE // 2,\n",
        "                      event.x + ERASER_SIZE // 2, event.y + ERASER_SIZE // 2)\n",
        "        erase_objects(canvas, eraser)  # Call erase function\n",
        "\n",
        "    # Bind mouse movement to the move_eraser function\n",
        "    canvas.bind(\"<Motion>\", move_eraser)\n",
        "\n",
        "    root.mainloop()\n",
        "\n",
        "# Run the application\n",
        "if __name__ == '__main__':\n",
        "    main()"
      ]
    }
  ]
}