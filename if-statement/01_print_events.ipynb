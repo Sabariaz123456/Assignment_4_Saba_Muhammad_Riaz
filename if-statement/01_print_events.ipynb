{
  "nbformat": 4,
  "nbformat_minor": 0,
  "metadata": {
    "colab": {
      "provenance": [],
      "authorship_tag": "ABX9TyNs6HjUs30JJRPlx/dxghhK",
      "include_colab_link": true
    },
    "kernelspec": {
      "name": "python3",
      "display_name": "Python 3"
    },
    "language_info": {
      "name": "python"
    }
  },
  "cells": [
    {
      "cell_type": "markdown",
      "metadata": {
        "id": "view-in-github",
        "colab_type": "text"
      },
      "source": [
        "<a href=\"https://colab.research.google.com/github/Sabariaz123456/Assignment_4_Saba_Muhammad_Riaz/blob/main/if-statement/01_print_events.ipynb\" target=\"_parent\"><img src=\"https://colab.research.google.com/assets/colab-badge.svg\" alt=\"Open In Colab\"/></a>"
      ]
    },
    {
      "cell_type": "markdown",
      "source": [
        "# **01_print_events**"
      ],
      "metadata": {
        "id": "hWrSoUTUxDBJ"
      }
    },
    {
      "cell_type": "code",
      "execution_count": 1,
      "metadata": {
        "colab": {
          "base_uri": "https://localhost:8080/"
        },
        "id": "-BAnPcfpxA4C",
        "outputId": "7b4d1ed2-e1ab-4f87-9372-906dcc0212f1"
      },
      "outputs": [
        {
          "output_type": "stream",
          "name": "stdout",
          "text": [
            "0\n",
            "2\n",
            "4\n",
            "6\n",
            "8\n",
            "10\n",
            "12\n",
            "14\n",
            "16\n",
            "18\n",
            "20\n",
            "22\n",
            "24\n",
            "26\n",
            "28\n",
            "30\n",
            "32\n",
            "34\n",
            "36\n",
            "38\n"
          ]
        }
      ],
      "source": [
        "# Problem Statement:\n",
        "# Write a Python program that prints the first 20 even numbers.\n",
        "# The program should use a for-loop to iterate through a range of numbers\n",
        "# and print each even number in sequence.\n",
        "\n",
        "def main():\n",
        "    # This for-loop starts at 0 and counts up to 19 (for a total of 20 numbers)\n",
        "    for i in range(20):\n",
        "        print(i * 2)  # Multiply 'i' by 2 to get even numbers and print them\n",
        "\n",
        "# Call the main function when the script is run\n",
        "if __name__ == \"__main__\":\n",
        "    main()\n"
      ]
    }
  ]
}