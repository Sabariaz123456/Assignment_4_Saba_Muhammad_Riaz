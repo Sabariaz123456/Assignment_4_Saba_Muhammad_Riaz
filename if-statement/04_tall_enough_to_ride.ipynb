{
  "nbformat": 4,
  "nbformat_minor": 0,
  "metadata": {
    "colab": {
      "provenance": [],
      "authorship_tag": "ABX9TyOssCD8kd6hBWZTet8c1ODS",
      "include_colab_link": true
    },
    "kernelspec": {
      "name": "python3",
      "display_name": "Python 3"
    },
    "language_info": {
      "name": "python"
    }
  },
  "cells": [
    {
      "cell_type": "markdown",
      "metadata": {
        "id": "view-in-github",
        "colab_type": "text"
      },
      "source": [
        "<a href=\"https://colab.research.google.com/github/Sabariaz123456/Assignment_4_Saba_Muhammad_Riaz/blob/main/if-statement/04_tall_enough_to_ride.ipynb\" target=\"_parent\"><img src=\"https://colab.research.google.com/assets/colab-badge.svg\" alt=\"Open In Colab\"/></a>"
      ]
    },
    {
      "cell_type": "markdown",
      "source": [
        "# **04_tall_enough_to_ride**"
      ],
      "metadata": {
        "id": "M6R1cRscysYo"
      }
    },
    {
      "cell_type": "code",
      "execution_count": 1,
      "metadata": {
        "colab": {
          "base_uri": "https://localhost:8080/"
        },
        "id": "g_ezSdqhyneg",
        "outputId": "94337c86-f846-4619-cb0d-4e20292407a0"
      },
      "outputs": [
        {
          "output_type": "stream",
          "name": "stdout",
          "text": [
            "How tall are you? 56\n",
            "You're tall enough to ride!\n"
          ]
        }
      ],
      "source": [
        "\"\"\"\n",
        "Problem Statement:\n",
        "A theme park ride has a height restriction to ensure safety.\n",
        "The minimum height required to ride is 50 arbitrary units.\n",
        "Write a program that asks the user for their height and checks if they are tall enough to ride.\n",
        "If the user meets or exceeds the minimum height, print a message allowing them to ride.\n",
        "Otherwise, print a message telling them to try again next year.\n",
        "\"\"\"\n",
        "\n",
        "# Define the minimum height required to ride\n",
        "MINIMUM_HEIGHT: int = 50  # arbitrary units :)\n",
        "\n",
        "def main():\n",
        "    # Ask the user for their height\n",
        "    height = float(input(\"How tall are you? \"))\n",
        "\n",
        "    # Check if the user meets the height requirement\n",
        "    if height >= MINIMUM_HEIGHT:\n",
        "        print(\"You're tall enough to ride!\")\n",
        "    else:\n",
        "        print(\"You're not tall enough to ride, but maybe next year!\")\n",
        "\n",
        "# Entry point of the script\n",
        "if __name__ == '__main__':\n",
        "    main()\n"
      ]
    }
  ]
}