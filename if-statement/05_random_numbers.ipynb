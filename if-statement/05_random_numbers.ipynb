{
  "nbformat": 4,
  "nbformat_minor": 0,
  "metadata": {
    "colab": {
      "provenance": [],
      "authorship_tag": "ABX9TyP+goDz+yxhqXYOjnfCsMwH",
      "include_colab_link": true
    },
    "kernelspec": {
      "name": "python3",
      "display_name": "Python 3"
    },
    "language_info": {
      "name": "python"
    }
  },
  "cells": [
    {
      "cell_type": "markdown",
      "metadata": {
        "id": "view-in-github",
        "colab_type": "text"
      },
      "source": [
        "<a href=\"https://colab.research.google.com/github/Sabariaz123456/Assignment_4_Saba_Muhammad_Riaz/blob/main/if-statement/05_random_numbers.ipynb\" target=\"_parent\"><img src=\"https://colab.research.google.com/assets/colab-badge.svg\" alt=\"Open In Colab\"/></a>"
      ]
    },
    {
      "cell_type": "markdown",
      "source": [
        "# **05_random_numbers**"
      ],
      "metadata": {
        "id": "PLuBvdM8zJHJ"
      }
    },
    {
      "cell_type": "code",
      "execution_count": 1,
      "metadata": {
        "colab": {
          "base_uri": "https://localhost:8080/"
        },
        "id": "BKErgIb6zIW6",
        "outputId": "385ef55d-7d3e-4464-c03b-90a9166ea490"
      },
      "outputs": [
        {
          "output_type": "stream",
          "name": "stdout",
          "text": [
            "Generated Random Numbers: [13, 74, 79, 73, 94, 70, 64, 29, 10, 60]\n"
          ]
        }
      ],
      "source": [
        "\"\"\"\n",
        "Problem Statement:\n",
        "Write a Python program that generates a list of N random numbers\n",
        "within a given range (MIN_VALUE to MAX_VALUE). The program should\n",
        "then display the generated numbers.\n",
        "\n",
        "Constants:\n",
        "- N_NUMBERS: The number of random numbers to generate.\n",
        "- MIN_VALUE: The minimum possible value of the random numbers.\n",
        "- MAX_VALUE: The maximum possible value of the random numbers.\n",
        "\"\"\"\n",
        "\n",
        "import random\n",
        "\n",
        "# Constants defining the number of random values and their range\n",
        "N_NUMBERS: int = 10  # Number of random numbers to generate\n",
        "MIN_VALUE: int = 1    # Minimum value of the random number\n",
        "MAX_VALUE: int = 100  # Maximum value of the random number\n",
        "\n",
        "def main():\n",
        "    \"\"\"\n",
        "    Generates a list of N random numbers within the defined range\n",
        "    and prints them to the console.\n",
        "    \"\"\"\n",
        "    random_numbers = [random.randint(MIN_VALUE, MAX_VALUE) for _ in range(N_NUMBERS)]\n",
        "    print(\"Generated Random Numbers:\", random_numbers)\n",
        "\n",
        "if __name__ == '__main__':\n",
        "    main()\n"
      ]
    }
  ]
}