{
  "nbformat": 4,
  "nbformat_minor": 0,
  "metadata": {
    "colab": {
      "provenance": [],
      "authorship_tag": "ABX9TyNtahMDgDXM7Ixt94nyxldu",
      "include_colab_link": true
    },
    "kernelspec": {
      "name": "python3",
      "display_name": "Python 3"
    },
    "language_info": {
      "name": "python"
    }
  },
  "cells": [
    {
      "cell_type": "markdown",
      "metadata": {
        "id": "view-in-github",
        "colab_type": "text"
      },
      "source": [
        "<a href=\"https://colab.research.google.com/github/Sabariaz123456/Assignment_4_Saba_Muhammad_Riaz/blob/main/if-statement/03_leap_year.ipynb\" target=\"_parent\"><img src=\"https://colab.research.google.com/assets/colab-badge.svg\" alt=\"Open In Colab\"/></a>"
      ]
    },
    {
      "cell_type": "markdown",
      "source": [
        "# **03_leap_year**"
      ],
      "metadata": {
        "id": "ldhODF4Ex8n0"
      }
    },
    {
      "cell_type": "code",
      "execution_count": 1,
      "metadata": {
        "colab": {
          "base_uri": "https://localhost:8080/"
        },
        "id": "uyiV620Jx57A",
        "outputId": "0b7be0c6-97bf-4896-9b37-38195530279e"
      },
      "outputs": [
        {
          "output_type": "stream",
          "name": "stdout",
          "text": [
            "Please input a year: 66\n",
            "That's not a leap year.\n"
          ]
        }
      ],
      "source": [
        "\"\"\"\n",
        "Problem Statement:\n",
        "Write a Python program that determines whether a given year is a leap year.\n",
        "A year is a leap year if:\n",
        "- It is divisible by 4.\n",
        "- However, if it is also divisible by 100, it must also be divisible by 400 to be a leap year.\n",
        "\n",
        "The program should take an input from the user and print whether the given year is a leap year or not.\n",
        "\"\"\"\n",
        "\n",
        "def main():\n",
        "    # Get the year to check from the user\n",
        "    year = int(input('Please input a year: '))\n",
        "\n",
        "    # Checking whether the provided year is evenly divisible by 4\n",
        "    if year % 4 == 0:\n",
        "        # Checking whether the provided year is evenly divisible by 100\n",
        "        if year % 100 == 0:\n",
        "            # Checking whether the provided year is evenly divisible by 400\n",
        "            if year % 400 == 0:\n",
        "                print(\"That's a leap year!\")\n",
        "            else:  # Not divisible by 400\n",
        "                print(\"That's not a leap year.\")\n",
        "        else:  # Not divisible by 100\n",
        "            print(\"That's a leap year!\")\n",
        "    else:  # Not divisible by 4\n",
        "        print(\"That's not a leap year.\")\n",
        "\n",
        "# There is no need to edit code beyond this point\n",
        "if __name__ == '__main__':\n",
        "    main()"
      ]
    }
  ]
}