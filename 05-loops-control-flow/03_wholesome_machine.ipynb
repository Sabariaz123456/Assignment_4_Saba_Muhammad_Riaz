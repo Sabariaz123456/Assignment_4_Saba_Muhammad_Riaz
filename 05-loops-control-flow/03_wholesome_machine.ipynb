{
  "nbformat": 4,
  "nbformat_minor": 0,
  "metadata": {
    "colab": {
      "provenance": [],
      "authorship_tag": "ABX9TyNHGJhEkK9j+4o3MFVq2gUM",
      "include_colab_link": true
    },
    "kernelspec": {
      "name": "python3",
      "display_name": "Python 3"
    },
    "language_info": {
      "name": "python"
    }
  },
  "cells": [
    {
      "cell_type": "markdown",
      "metadata": {
        "id": "view-in-github",
        "colab_type": "text"
      },
      "source": [
        "<a href=\"https://colab.research.google.com/github/Sabariaz123456/Assignment_4_Saba_Muhammad_Riaz/blob/main/05-loops-control-flow/03_wholesome_machine.ipynb\" target=\"_parent\"><img src=\"https://colab.research.google.com/assets/colab-badge.svg\" alt=\"Open In Colab\"/></a>"
      ]
    },
    {
      "cell_type": "markdown",
      "source": [
        "# **03_wholesome_machine**"
      ],
      "metadata": {
        "id": "nUgLKnnT6Vhw"
      }
    },
    {
      "cell_type": "code",
      "execution_count": 1,
      "metadata": {
        "colab": {
          "base_uri": "https://localhost:8080/"
        },
        "id": "M3SmpZC76UVC",
        "outputId": "ea52c435-65ef-47f5-9e32-f4960badf06e"
      },
      "outputs": [
        {
          "output_type": "stream",
          "name": "stdout",
          "text": [
            "Please type the following affirmation: I am capable of doing anything I put my mind to.\n",
            "I am capable of doing anything I put my mind to.\n",
            "That's right! :)\n"
          ]
        }
      ],
      "source": [
        "\"\"\"\n",
        "Problem Statement:\n",
        "Write a Python program that prompts the user to type a given affirmation exactly as it is. If the input does not match, the program should notify the user and prompt them to try again until they get it right. Once the correct affirmation is entered, the program should display a success message.\n",
        "\"\"\"\n",
        "\n",
        "# Define a constant string for the affirmation\n",
        "AFFIRMATION: str = \"I am capable of doing anything I put my mind to.\"\n",
        "\n",
        "def main():\n",
        "    # Prompt the user to type the given affirmation\n",
        "    print(\"Please type the following affirmation: \" + AFFIRMATION)\n",
        "\n",
        "    user_feedback = input()  # Get user's input\n",
        "\n",
        "    # Keep prompting the user until they correctly type the affirmation\n",
        "    while user_feedback != AFFIRMATION:\n",
        "        # Notify the user that the input is incorrect\n",
        "        print(\"That was not the affirmation.\")\n",
        "\n",
        "        # Ask the user to try again\n",
        "        print(\"Please type the following affirmation: \" + AFFIRMATION)\n",
        "        user_feedback = input()\n",
        "\n",
        "    # Display success message when the correct affirmation is entered\n",
        "    print(\"That's right! :)\")\n",
        "\n",
        "# Ensures the script runs only if executed directly\n",
        "if __name__ == '__main__':\n",
        "    main()\n"
      ]
    }
  ]
}