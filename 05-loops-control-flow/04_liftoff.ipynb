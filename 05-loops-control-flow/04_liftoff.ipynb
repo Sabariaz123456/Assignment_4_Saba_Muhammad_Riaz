{
  "nbformat": 4,
  "nbformat_minor": 0,
  "metadata": {
    "colab": {
      "provenance": [],
      "authorship_tag": "ABX9TyOKzDZp8lX1dTX1rh0rJYlm",
      "include_colab_link": true
    },
    "kernelspec": {
      "name": "python3",
      "display_name": "Python 3"
    },
    "language_info": {
      "name": "python"
    }
  },
  "cells": [
    {
      "cell_type": "markdown",
      "metadata": {
        "id": "view-in-github",
        "colab_type": "text"
      },
      "source": [
        "<a href=\"https://colab.research.google.com/github/Sabariaz123456/Assignment_4_Saba_Muhammad_Riaz/blob/main/05-loops-control-flow/04_liftoff.ipynb\" target=\"_parent\"><img src=\"https://colab.research.google.com/assets/colab-badge.svg\" alt=\"Open In Colab\"/></a>"
      ]
    },
    {
      "cell_type": "markdown",
      "source": [
        "# **04_liftoff**"
      ],
      "metadata": {
        "id": "68f6iGF67Q6f"
      }
    },
    {
      "cell_type": "code",
      "execution_count": 1,
      "metadata": {
        "colab": {
          "base_uri": "https://localhost:8080/"
        },
        "id": "J6-KWT5Z7Nt5",
        "outputId": "7ff64d0f-9d46-4277-b748-2d9b1571d07c"
      },
      "outputs": [
        {
          "output_type": "stream",
          "name": "stdout",
          "text": [
            "10 9 8 7 6 5 4 3 2 1 Liftoff!\n"
          ]
        }
      ],
      "source": [
        "# Problem Statement:\n",
        "# Write a program that prints out the calls for a spaceship that is about to launch.\n",
        "# Countdown from 10 to 1 and then output \"Liftoff!\".\n",
        "\n",
        "# Using a for loop to count down from 10 to 1\n",
        "for i in range(10, 0, -1):  # Starts from 10, decreases by 1 each time, stops at 1\n",
        "    print(i, end=\" \")  # Prints numbers on the same line with a space\n",
        "\n",
        "# Printing the final launch message\n",
        "print(\"Liftoff!\")  # Displays \"Liftoff!\" at the end of the countdown\n"
      ]
    }
  ]
}