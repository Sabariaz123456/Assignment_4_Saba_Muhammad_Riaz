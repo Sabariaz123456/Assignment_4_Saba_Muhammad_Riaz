{
  "nbformat": 4,
  "nbformat_minor": 0,
  "metadata": {
    "colab": {
      "provenance": [],
      "authorship_tag": "ABX9TyNyEjanIglk4Jt75SME+hOS",
      "include_colab_link": true
    },
    "kernelspec": {
      "name": "python3",
      "display_name": "Python 3"
    },
    "language_info": {
      "name": "python"
    }
  },
  "cells": [
    {
      "cell_type": "markdown",
      "metadata": {
        "id": "view-in-github",
        "colab_type": "text"
      },
      "source": [
        "<a href=\"https://colab.research.google.com/github/Sabariaz123456/Assignment_4_Saba_Muhammad_Riaz/blob/main/05-loops-control-flow/00_guess_my_number_md.ipynb\" target=\"_parent\"><img src=\"https://colab.research.google.com/assets/colab-badge.svg\" alt=\"Open In Colab\"/></a>"
      ]
    },
    {
      "cell_type": "markdown",
      "source": [
        "# **00_guess_my_number.md**"
      ],
      "metadata": {
        "id": "1ZX8gboI4Wz9"
      }
    },
    {
      "cell_type": "code",
      "execution_count": null,
      "metadata": {
        "colab": {
          "base_uri": "https://localhost:8080/"
        },
        "id": "tNKeke-O4U5i",
        "outputId": "56eea1ed-164b-4b44-8c7e-d0a194607770"
      },
      "outputs": [
        {
          "output_type": "stream",
          "name": "stdout",
          "text": [
            "I am thinking of a number between 1 and 99...\n",
            "Enter a guess: 5\n",
            "Your guess is too low\n",
            "\n",
            "Enter a new guess: 777\n",
            "Your guess is too high\n",
            "\n",
            "Enter a new guess: 67\n",
            "Your guess is too high\n",
            "\n"
          ]
        }
      ],
      "source": [
        "\"\"\"\n",
        "Problem Statement:\n",
        "This program is a simple number guessing game. The computer randomly selects a number between 1 and 99, and the user must guess it.\n",
        "The program provides hints to indicate whether the guess is too high or too low until the correct number is guessed.\n",
        "\"\"\"\n",
        "\n",
        "import random  # Importing the random module to generate random numbers\n",
        "\n",
        "def main():\n",
        "    # Generate the secret number at random!\n",
        "    secret_number = random.randint(1, 99)\n",
        "\n",
        "    print(\"I am thinking of a number between 1 and 99...\")\n",
        "\n",
        "    # Get user's first guess\n",
        "    guess = int(input(\"Enter a guess: \"))\n",
        "\n",
        "    # Loop until the user guesses the correct number\n",
        "    while guess != secret_number:\n",
        "        if guess < secret_number:  # Check if the guess is too low\n",
        "            print(\"Your guess is too low\")\n",
        "        else:  # Check if the guess is too high\n",
        "            print(\"Your guess is too high\")\n",
        "\n",
        "        print()  # Print an empty line to improve readability\n",
        "\n",
        "        # Get a new guess from the user\n",
        "        guess = int(input(\"Enter a new guess: \"))\n",
        "\n",
        "    # If the loop exits, the user has guessed the correct number\n",
        "    print(\"Congrats! The number was: \" + str(secret_number))\n",
        "\n",
        "# Standard Python convention to call the main function when the script runs\n",
        "if __name__ == '__main__':\n",
        "    main()\n"
      ]
    }
  ]
}