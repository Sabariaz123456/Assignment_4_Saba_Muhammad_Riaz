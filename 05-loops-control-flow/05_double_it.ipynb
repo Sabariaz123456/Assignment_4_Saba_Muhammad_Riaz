{
  "nbformat": 4,
  "nbformat_minor": 0,
  "metadata": {
    "colab": {
      "provenance": [],
      "authorship_tag": "ABX9TyMh6IR/EbS645WaeD0mhA6i",
      "include_colab_link": true
    },
    "kernelspec": {
      "name": "python3",
      "display_name": "Python 3"
    },
    "language_info": {
      "name": "python"
    }
  },
  "cells": [
    {
      "cell_type": "markdown",
      "metadata": {
        "id": "view-in-github",
        "colab_type": "text"
      },
      "source": [
        "<a href=\"https://colab.research.google.com/github/Sabariaz123456/Assignment_4_Saba_Muhammad_Riaz/blob/main/05-loops-control-flow/05_double_it.ipynb\" target=\"_parent\"><img src=\"https://colab.research.google.com/assets/colab-badge.svg\" alt=\"Open In Colab\"/></a>"
      ]
    },
    {
      "cell_type": "markdown",
      "source": [
        "# **05_double_it**"
      ],
      "metadata": {
        "id": "MmoH3xJ48FPd"
      }
    },
    {
      "cell_type": "code",
      "execution_count": 1,
      "metadata": {
        "colab": {
          "base_uri": "https://localhost:8080/"
        },
        "id": "ynHele8s8Esv",
        "outputId": "99fb6848-f171-4b76-81bd-9c9f80ff2d76"
      },
      "outputs": [
        {
          "output_type": "stream",
          "name": "stdout",
          "text": [
            "Enter a number: 5\n",
            "10 20 40 80 160 "
          ]
        }
      ],
      "source": [
        "\"\"\"\n",
        "Problem Statement:\n",
        "Write a program that asks a user to enter a number. Your program will then double that number\n",
        "and print out the result. It will repeat that process until the value is 100 or greater.\n",
        "\n",
        "Example:\n",
        "If the user enters 2, the output will be:\n",
        "4 8 16 32 64 128\n",
        "\n",
        "Explanation:\n",
        "- 2 doubled is 4\n",
        "- 4 doubled is 8\n",
        "- 8 doubled is 16\n",
        "- and so on...\n",
        "- We stop at 128 because it is greater than 100.\n",
        "\"\"\"\n",
        "\n",
        "# User se number input lena\n",
        "curr_value = int(input(\"Enter a number: \"))\n",
        "\n",
        "# Jab tak value 100 se choti hai, tab tak double karte raho\n",
        "while curr_value < 100:\n",
        "    curr_value = curr_value * 2  # Value ko double karna\n",
        "    print(curr_value, end=\" \")  # Output ek line mein print hoga\n"
      ]
    }
  ]
}