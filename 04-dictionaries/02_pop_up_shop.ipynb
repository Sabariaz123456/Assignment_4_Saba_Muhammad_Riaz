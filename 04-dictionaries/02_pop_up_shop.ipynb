{
  "nbformat": 4,
  "nbformat_minor": 0,
  "metadata": {
    "colab": {
      "provenance": [],
      "authorship_tag": "ABX9TyPnh+KEe+HBcRW0iveV+gLw",
      "include_colab_link": true
    },
    "kernelspec": {
      "name": "python3",
      "display_name": "Python 3"
    },
    "language_info": {
      "name": "python"
    }
  },
  "cells": [
    {
      "cell_type": "markdown",
      "metadata": {
        "id": "view-in-github",
        "colab_type": "text"
      },
      "source": [
        "<a href=\"https://colab.research.google.com/github/Sabariaz123456/Assignment_4_Saba_Muhammad_Riaz/blob/main/04-dictionaries/02_pop_up_shop.ipynb\" target=\"_parent\"><img src=\"https://colab.research.google.com/assets/colab-badge.svg\" alt=\"Open In Colab\"/></a>"
      ]
    },
    {
      "cell_type": "markdown",
      "source": [
        "# **02_pop_up_shop**"
      ],
      "metadata": {
        "id": "LZ_AGP2W1_X0"
      }
    },
    {
      "cell_type": "code",
      "execution_count": 1,
      "metadata": {
        "colab": {
          "base_uri": "https://localhost:8080/"
        },
        "id": "GTnUGU9s1-1g",
        "outputId": "6fc959b3-cae2-4e47-a3c0-7eee462aff91"
      },
      "outputs": [
        {
          "output_type": "stream",
          "name": "stdout",
          "text": [
            "How many (apple) do you want to buy?: 24\n",
            "How many (durian) do you want to buy?: 20\n",
            "How many (jackfruit) do you want to buy?: 10\n",
            "How many (kiwi) do you want to buy?: 11\n",
            "How many (rambutan) do you want to buy?: 11\n",
            "How many (mango) do you want to buy?: 34\n",
            "Your total is $2033.5\n"
          ]
        }
      ],
      "source": [
        "# Problem Statement:\n",
        "# This program allows users to purchase different fruits.\n",
        "# It maintains a dictionary of fruits with their respective prices.\n",
        "# The user inputs the quantity of each fruit they want to buy.\n",
        "# The total cost is then calculated and displayed.\n",
        "\n",
        "def main():\n",
        "    # Dictionary containing fruit names as keys and their prices as values\n",
        "    fruits = {'apple': 1.5, 'durian': 50, 'jackfruit': 80, 'kiwi': 1, 'rambutan': 1.5, 'mango': 5}\n",
        "\n",
        "    total_cost = 0  # Variable to store the total cost\n",
        "\n",
        "    # Loop through each fruit in the dictionary\n",
        "    for fruit_name in fruits:\n",
        "        price = fruits[fruit_name]  # Get the price of the fruit\n",
        "\n",
        "        # Prompt the user to input the quantity they wish to purchase\n",
        "        amount_bought = int(input(\"How many (\" + fruit_name + \") do you want to buy?: \"))\n",
        "\n",
        "        # Calculate cost for the current fruit and add to total cost\n",
        "        total_cost += (price * amount_bought)\n",
        "\n",
        "    # Display the total cost to the user\n",
        "    print(\"Your total is $\" + str(total_cost))\n",
        "\n",
        "# Ensure the main function runs when the script is executed\n",
        "if __name__ == '__main__':\n",
        "    main()\n"
      ]
    }
  ]
}