{
  "nbformat": 4,
  "nbformat_minor": 0,
  "metadata": {
    "colab": {
      "provenance": [],
      "authorship_tag": "ABX9TyNO/ckib+LKprS7MbPoWkyA",
      "include_colab_link": true
    },
    "kernelspec": {
      "name": "python3",
      "display_name": "Python 3"
    },
    "language_info": {
      "name": "python"
    }
  },
  "cells": [
    {
      "cell_type": "markdown",
      "metadata": {
        "id": "view-in-github",
        "colab_type": "text"
      },
      "source": [
        "<a href=\"https://colab.research.google.com/github/Sabariaz123456/Assignment_4_Saba_Muhammad_Riaz/blob/main/04-dictionaries/00_count_nums.ipynb\" target=\"_parent\"><img src=\"https://colab.research.google.com/assets/colab-badge.svg\" alt=\"Open In Colab\"/></a>"
      ]
    },
    {
      "cell_type": "markdown",
      "source": [
        "# **00_count_nums**"
      ],
      "metadata": {
        "id": "zhvqkP-7z1Xv"
      }
    },
    {
      "cell_type": "code",
      "execution_count": 1,
      "metadata": {
        "colab": {
          "base_uri": "https://localhost:8080/"
        },
        "id": "Jh8uRs8kzy3o",
        "outputId": "7f90f572-3285-44e8-e0db-94125f75461e"
      },
      "outputs": [
        {
          "output_type": "stream",
          "name": "stdout",
          "text": [
            "Enter a number (or press Enter to stop): 6\n",
            "Enter a number (or press Enter to stop): 6\n",
            "Enter a number (or press Enter to stop): 7\n",
            "Enter a number (or press Enter to stop): \n",
            "\n",
            "Number Frequencies:\n",
            "6 appears 2 times.\n",
            "7 appears 1 times.\n"
          ]
        }
      ],
      "source": [
        "\"\"\"\n",
        "Problem Statement:\n",
        "------------------\n",
        "Write a Python program that takes user-inputted numbers, counts their occurrences,\n",
        "and displays the count of each unique number.\n",
        "\n",
        "Steps:\n",
        "1. The user will input numbers one by one.\n",
        "2. The program will store these numbers in a list.\n",
        "3. Once the user enters a blank line, input collection will stop.\n",
        "4. The program will then count how many times each number appears.\n",
        "5. Finally, the program will display the frequency of each number.\n",
        "\"\"\"\n",
        "\n",
        "def get_user_numbers():\n",
        "    \"\"\"\n",
        "    Prompt the user to enter numbers and store them in a list.\n",
        "    Input collection stops when the user enters a blank line.\n",
        "    \"\"\"\n",
        "    user_numbers = []  # Initialize an empty list to store user input\n",
        "\n",
        "    while True:\n",
        "        user_input = input(\"Enter a number (or press Enter to stop): \")\n",
        "\n",
        "        # Stop input collection if user enters a blank line\n",
        "        if user_input == \"\":\n",
        "            break\n",
        "\n",
        "        # Convert input to an integer and add to the list\n",
        "        try:\n",
        "            num = int(user_input)\n",
        "            user_numbers.append(num)\n",
        "        except ValueError:\n",
        "            print(\"Invalid input. Please enter a valid number.\")\n",
        "\n",
        "    return user_numbers\n",
        "\n",
        "def count_nums(num_lst):\n",
        "    \"\"\"\n",
        "    Count the occurrences of each number in the given list.\n",
        "    Returns a dictionary where keys are numbers and values are their respective counts.\n",
        "    \"\"\"\n",
        "    num_dict = {}  # Initialize an empty dictionary\n",
        "\n",
        "    for num in num_lst:\n",
        "        if num not in num_dict:\n",
        "            num_dict[num] = 1  # First occurrence of the number\n",
        "        else:\n",
        "            num_dict[num] += 1  # Increment count for existing number\n",
        "\n",
        "    return num_dict\n",
        "\n",
        "def print_counts(num_dict):\n",
        "    \"\"\"\n",
        "    Print the count of each number in a user-friendly format.\n",
        "    \"\"\"\n",
        "    print(\"\\nNumber Frequencies:\")\n",
        "    for num, count in num_dict.items():\n",
        "        print(f\"{num} appears {count} times.\")\n",
        "\n",
        "def main():\n",
        "    \"\"\"\n",
        "    Main function that orchestrates user input, counting, and result display.\n",
        "    \"\"\"\n",
        "    user_numbers = get_user_numbers()  # Get list of numbers from user\n",
        "    num_dict = count_nums(user_numbers)  # Count occurrences\n",
        "    print_counts(num_dict)  # Display results\n",
        "\n",
        "# Standard Python boilerplate to execute main function\n",
        "if __name__ == '__main__':\n",
        "    main()\n"
      ]
    }
  ]
}