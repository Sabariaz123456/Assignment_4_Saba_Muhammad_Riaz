{
  "nbformat": 4,
  "nbformat_minor": 0,
  "metadata": {
    "colab": {
      "provenance": [],
      "authorship_tag": "ABX9TyPOIG8t9l423R4CFUo3GLsj",
      "include_colab_link": true
    },
    "kernelspec": {
      "name": "python3",
      "display_name": "Python 3"
    },
    "language_info": {
      "name": "python"
    }
  },
  "cells": [
    {
      "cell_type": "markdown",
      "metadata": {
        "id": "view-in-github",
        "colab_type": "text"
      },
      "source": [
        "<a href=\"https://colab.research.google.com/github/Sabariaz123456/Assignment_4_Saba_Muhammad_Riaz/blob/main/04-dictionaries/03_powerful_passwords.ipynb\" target=\"_parent\"><img src=\"https://colab.research.google.com/assets/colab-badge.svg\" alt=\"Open In Colab\"/></a>"
      ]
    },
    {
      "cell_type": "markdown",
      "source": [
        "# **03_powerful_passwords**"
      ],
      "metadata": {
        "id": "4kKlMU9M2sap"
      }
    },
    {
      "cell_type": "code",
      "execution_count": 1,
      "metadata": {
        "colab": {
          "base_uri": "https://localhost:8080/"
        },
        "id": "Fqpqg7k12rfA",
        "outputId": "ab3f11e4-04e3-4334-c15d-1f5a288f14f7"
      },
      "outputs": [
        {
          "output_type": "stream",
          "name": "stdout",
          "text": [
            "False\n",
            "True\n",
            "False\n",
            "True\n",
            "False\n",
            "True\n"
          ]
        }
      ],
      "source": [
        "\"\"\"\n",
        "Problem Statement:\n",
        "We need to implement a simple login system that verifies a user's password against stored hashed passwords.\n",
        "The system should:\n",
        "- Accept an email and a password from the user.\n",
        "- Compare the SHA256 hash of the input password with the stored hashed password.\n",
        "- Return True if the hashes match, otherwise return False.\n",
        "\n",
        "The stored passwords are already hashed using SHA256.\n",
        "\"\"\"\n",
        "\n",
        "from hashlib import sha256\n",
        "\n",
        "def login(email, stored_logins, password_to_check):\n",
        "    \"\"\"\n",
        "    Checks if the given password (after hashing) matches the stored hash for the provided email.\n",
        "\n",
        "    Parameters:\n",
        "        email (str): The email associated with the login attempt.\n",
        "        stored_logins (dict): A dictionary mapping emails to their hashed passwords.\n",
        "        password_to_check (str): The password entered by the user.\n",
        "\n",
        "    Returns:\n",
        "        bool: True if the password hash matches, False otherwise.\n",
        "    \"\"\"\n",
        "\n",
        "    if email in stored_logins and stored_logins[email] == hash_password(password_to_check):\n",
        "        return True  # Successful login\n",
        "\n",
        "    return False  # Login failed\n",
        "\n",
        "def hash_password(password):\n",
        "    \"\"\"\n",
        "    Hashes the given password using the SHA256 algorithm.\n",
        "\n",
        "    Parameters:\n",
        "        password (str): The password to hash.\n",
        "\n",
        "    Returns:\n",
        "        str: The SHA256 hashed value of the password.\n",
        "    \"\"\"\n",
        "    return sha256(password.encode()).hexdigest()\n",
        "\n",
        "def main():\n",
        "    \"\"\"\n",
        "    Test the login function with predefined email-password pairs.\n",
        "    \"\"\"\n",
        "    # Dictionary storing emails with their corresponding SHA256 hashed passwords\n",
        "    stored_logins = {\n",
        "        \"example@gmail.com\": \"5e884898da28047151d0e56f8dc6292773603d0d6aabbdd62a11ef721d1542d8\",  # Hash of \"password\"\n",
        "        \"code_in_placer@cip.org\": \"973607a4ae7b4cf7d96a100b0fb07e8519cc4f70441d41214a9f811577bb06cc\",  # Hash of \"Karel\"\n",
        "        \"student@stanford.edu\": \"882c6df720fd99f5eebb1581a1cf975625cea8a160283011c0b9512bb56c95fb\"  # Hash of \"123!456?789\"\n",
        "    }\n",
        "\n",
        "    # Test cases\n",
        "    print(login(\"example@gmail.com\", stored_logins, \"word\"))  # False\n",
        "    print(login(\"example@gmail.com\", stored_logins, \"password\"))  # True\n",
        "\n",
        "    print(login(\"code_in_placer@cip.org\", stored_logins, \"Karel\"))  # True\n",
        "    print(login(\"code_in_placer@cip.org\", stored_logins, \"karel\"))  # False\n",
        "\n",
        "    print(login(\"student@stanford.edu\", stored_logins, \"password\"))  # False\n",
        "    print(login(\"student@stanford.edu\", stored_logins, \"123!456?789\"))  # True\n",
        "\n",
        "if __name__ == '__main__':\n",
        "    main()\n"
      ]
    }
  ]
}