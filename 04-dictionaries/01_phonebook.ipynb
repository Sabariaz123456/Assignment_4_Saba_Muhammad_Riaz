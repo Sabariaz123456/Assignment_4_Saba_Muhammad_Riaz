{
  "nbformat": 4,
  "nbformat_minor": 0,
  "metadata": {
    "colab": {
      "provenance": [],
      "authorship_tag": "ABX9TyOIUFymWTguBzVuszZLknSi",
      "include_colab_link": true
    },
    "kernelspec": {
      "name": "python3",
      "display_name": "Python 3"
    },
    "language_info": {
      "name": "python"
    }
  },
  "cells": [
    {
      "cell_type": "markdown",
      "metadata": {
        "id": "view-in-github",
        "colab_type": "text"
      },
      "source": [
        "<a href=\"https://colab.research.google.com/github/Sabariaz123456/Assignment_4_Saba_Muhammad_Riaz/blob/main/04-dictionaries/01_phonebook.ipynb\" target=\"_parent\"><img src=\"https://colab.research.google.com/assets/colab-badge.svg\" alt=\"Open In Colab\"/></a>"
      ]
    },
    {
      "cell_type": "markdown",
      "source": [
        "# **01_phonebook**"
      ],
      "metadata": {
        "id": "_9itqMTp02wX"
      }
    },
    {
      "cell_type": "code",
      "execution_count": null,
      "metadata": {
        "colab": {
          "base_uri": "https://localhost:8080/"
        },
        "id": "zvQRXr5H01Zl",
        "outputId": "8e093d9e-9416-49ba-fb4d-57680a5f18d0"
      },
      "outputs": [
        {
          "output_type": "stream",
          "name": "stdout",
          "text": [
            "Name: Saba\n",
            "Number: 6\n",
            "Name: Sana\n",
            "Number: 16\n",
            "Name: rani\n",
            "Number: 34\n",
            "Name: \n",
            "\n",
            "Phonebook:\n",
            "Saba -> 6\n",
            "Sana -> 16\n",
            "rani -> 34\n",
            "Enter name to lookup: sana\n",
            "sana is not in the phonebook\n",
            "Enter name to lookup: number\n",
            "number is not in the phonebook\n"
          ]
        }
      ],
      "source": [
        "\"\"\"\n",
        "Problem Statement:\n",
        "This program allows users to create and manage a simple phonebook using a dictionary.\n",
        "It provides three functionalities:\n",
        "1. Adding names and phone numbers to the phonebook.\n",
        "2. Displaying all stored contacts.\n",
        "3. Looking up a phone number by entering a name.\n",
        "The program runs in a loop until the user decides to stop by entering an empty input.\n",
        "\"\"\"\n",
        "\n",
        "def read_phone_numbers():\n",
        "    \"\"\"\n",
        "    Asks the user for names and numbers to store in a phonebook (dictionary).\n",
        "    Returns the phonebook.\n",
        "    \"\"\"\n",
        "    phonebook = {}  # Create an empty phonebook dictionary\n",
        "\n",
        "    while True:\n",
        "        name = input(\"Name: \")  # Get the name from the user\n",
        "        if name == \"\":  # Stop if the user enters an empty name\n",
        "            break\n",
        "        number = input(\"Number: \")  # Get the phone number from the user\n",
        "        phonebook[name] = number  # Store the name-number pair in the phonebook\n",
        "\n",
        "    return phonebook\n",
        "\n",
        "def print_phonebook(phonebook):\n",
        "    \"\"\"\n",
        "    Prints out all the names and numbers stored in the phonebook.\n",
        "    \"\"\"\n",
        "    print(\"\\nPhonebook:\")\n",
        "    for name in phonebook:\n",
        "        print(str(name) + \" -> \" + str(phonebook[name]))\n",
        "\n",
        "def lookup_numbers(phonebook):\n",
        "    \"\"\"\n",
        "    Allows the user to look up phone numbers in the phonebook\n",
        "    by entering a name and retrieving the associated number.\n",
        "    \"\"\"\n",
        "    while True:\n",
        "        name = input(\"Enter name to lookup: \")  # Get the name to search for\n",
        "        if name == \"\":  # Stop if the user enters an empty name\n",
        "            break\n",
        "        if name not in phonebook:\n",
        "            print(name + \" is not in the phonebook\")  # Notify if name not found\n",
        "        else:\n",
        "            print(name + \"'s number: \" + phonebook[name])  # Display the number\n",
        "\n",
        "def main():\n",
        "    \"\"\"\n",
        "    Main function to execute the phonebook program.\n",
        "    \"\"\"\n",
        "    phonebook = read_phone_numbers()  # Step 1: Read contacts\n",
        "    print_phonebook(phonebook)  # Step 2: Display stored contacts\n",
        "    lookup_numbers(phonebook)  # Step 3: Allow user to search for contacts\n",
        "\n",
        "# Standard Python boilerplate to ensure the script runs when executed directly.\n",
        "if __name__ == '__main__':\n",
        "    main()\n"
      ]
    }
  ]
}