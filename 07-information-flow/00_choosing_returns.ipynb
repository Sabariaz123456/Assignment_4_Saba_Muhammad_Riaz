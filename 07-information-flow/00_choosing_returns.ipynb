{
  "nbformat": 4,
  "nbformat_minor": 0,
  "metadata": {
    "colab": {
      "provenance": [],
      "authorship_tag": "ABX9TyMQ2QVTnpU5lmhqHUW/iGL7",
      "include_colab_link": true
    },
    "kernelspec": {
      "name": "python3",
      "display_name": "Python 3"
    },
    "language_info": {
      "name": "python"
    }
  },
  "cells": [
    {
      "cell_type": "markdown",
      "metadata": {
        "id": "view-in-github",
        "colab_type": "text"
      },
      "source": [
        "<a href=\"https://colab.research.google.com/github/Sabariaz123456/Assignment_4_Saba_Muhammad_Riaz/blob/main/07-information-flow/00_choosing_returns.ipynb\" target=\"_parent\"><img src=\"https://colab.research.google.com/assets/colab-badge.svg\" alt=\"Open In Colab\"/></a>"
      ]
    },
    {
      "cell_type": "markdown",
      "source": [
        "# **00_choosing_returns**"
      ],
      "metadata": {
        "id": "MbKdCNswQbOj"
      }
    },
    {
      "cell_type": "code",
      "execution_count": 1,
      "metadata": {
        "colab": {
          "base_uri": "https://localhost:8080/"
        },
        "id": "O1-sZw78H29i",
        "outputId": "15c3df5b-1105-4e3b-9747-6d4496ce5df9"
      },
      "outputs": [
        {
          "output_type": "stream",
          "name": "stdout",
          "text": [
            "How old is this person?: 34\n",
            "True\n"
          ]
        }
      ],
      "source": [
        "# Problem Statement:\n",
        "# Write a Python program that determines whether a given age qualifies as an adult age in the U.S.\n",
        "# The legal adult age is set to 18. The program should prompt the user to input an age\n",
        "# and then check if the person is an adult based on this threshold.\n",
        "\n",
        "# Constant representing the adult age threshold in the U.S.\n",
        "ADULT_AGE: int = 18\n",
        "\n",
        "# Function to check if the given age qualifies as adult\n",
        "\n",
        "def is_adult(age: int):\n",
        "    if age >= ADULT_AGE:\n",
        "        return True\n",
        "\n",
        "    return False\n",
        "\n",
        "########## No need to edit code beyond this point :) ##########\n",
        "\n",
        "# Main function to get user input and check adulthood status\n",
        "def main():\n",
        "    age: int = int(input(\"How old is this person?: \"))  # Taking input from user\n",
        "    print(is_adult(age))  # Printing the result of adulthood check\n",
        "\n",
        "# Entry point of the program\n",
        "if __name__ == \"__main__\":\n",
        "    main()\n"
      ]
    }
  ]
}