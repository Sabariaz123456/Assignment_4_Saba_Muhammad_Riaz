{
  "nbformat": 4,
  "nbformat_minor": 0,
  "metadata": {
    "colab": {
      "provenance": [],
      "authorship_tag": "ABX9TyPLq0xfy6X0w8GMYmGsOZKu",
      "include_colab_link": true
    },
    "kernelspec": {
      "name": "python3",
      "display_name": "Python 3"
    },
    "language_info": {
      "name": "python"
    }
  },
  "cells": [
    {
      "cell_type": "markdown",
      "metadata": {
        "id": "view-in-github",
        "colab_type": "text"
      },
      "source": [
        "<a href=\"https://colab.research.google.com/github/Sabariaz123456/Assignment_4_Saba_Muhammad_Riaz/blob/main/07-information-flow/01_greetings.ipynb\" target=\"_parent\"><img src=\"https://colab.research.google.com/assets/colab-badge.svg\" alt=\"Open In Colab\"/></a>"
      ]
    },
    {
      "cell_type": "markdown",
      "source": [
        "# **01_greetings**"
      ],
      "metadata": {
        "id": "HGSxZHLARTU9"
      }
    },
    {
      "cell_type": "code",
      "execution_count": 1,
      "metadata": {
        "colab": {
          "base_uri": "https://localhost:8080/"
        },
        "id": "xuvOQKBgRRc3",
        "outputId": "50efbeaf-437c-4da2-de6d-05c4142882ce"
      },
      "outputs": [
        {
          "output_type": "stream",
          "name": "stdout",
          "text": [
            "What's your name? Saba Muhammad Riaz\n",
            "Greetings Saba Muhammad Riaz!\n"
          ]
        }
      ],
      "source": [
        "# Problem Statement:\n",
        "# Write a Python program that asks the user for their name and then greets them using a separate function.\n",
        "# The program should define a function `greet(name)` that takes a name as input and returns a greeting message.\n",
        "# The `main()` function should handle user input and call the `greet()` function to display the greeting.\n",
        "\n",
        "\n",
        "def main():\n",
        "    # Prompt the user to enter their name\n",
        "    name: str = input(\"What's your name? \")\n",
        "\n",
        "    # Call the greet function and print the greeting message\n",
        "    print(greet(name))\n",
        "\n",
        "# Function to generate a greeting message\n",
        "def greet(name):\n",
        "    return \"Greetings \" + name + \"!\"\n",
        "\n",
        "# Entry point of the program\n",
        "if __name__ == '__main__':\n",
        "    main()\n"
      ]
    }
  ]
}