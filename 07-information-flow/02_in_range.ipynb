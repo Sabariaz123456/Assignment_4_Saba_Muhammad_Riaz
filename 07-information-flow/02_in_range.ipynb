{
  "nbformat": 4,
  "nbformat_minor": 0,
  "metadata": {
    "colab": {
      "provenance": [],
      "authorship_tag": "ABX9TyOvsQ1jFQq7BTR3gzvQJKrg",
      "include_colab_link": true
    },
    "kernelspec": {
      "name": "python3",
      "display_name": "Python 3"
    },
    "language_info": {
      "name": "python"
    }
  },
  "cells": [
    {
      "cell_type": "markdown",
      "metadata": {
        "id": "view-in-github",
        "colab_type": "text"
      },
      "source": [
        "<a href=\"https://colab.research.google.com/github/Sabariaz123456/Assignment_4_Saba_Muhammad_Riaz/blob/main/07-information-flow/02_in_range.ipynb\" target=\"_parent\"><img src=\"https://colab.research.google.com/assets/colab-badge.svg\" alt=\"Open In Colab\"/></a>"
      ]
    },
    {
      "cell_type": "markdown",
      "source": [
        "# **02_in_range**"
      ],
      "metadata": {
        "id": "RYkUKV58R6-j"
      }
    },
    {
      "cell_type": "code",
      "execution_count": 3,
      "metadata": {
        "colab": {
          "base_uri": "https://localhost:8080/"
        },
        "id": "QhBf_83KR5Qq",
        "outputId": "f6616b75-b456-4d23-8b63-4391fed51d8e"
      },
      "outputs": [
        {
          "output_type": "stream",
          "name": "stdout",
          "text": [
            "True\n",
            "False\n"
          ]
        }
      ],
      "source": [
        "def in_range(n, low, high):\n",
        "    \"\"\"\n",
        "    Problem Statement:\n",
        "    This function checks if a given number 'n' falls within the range\n",
        "    defined by 'low' and 'high' (inclusive). The 'high' value is always\n",
        "    greater than 'low'. Returns True if 'n' is in range, otherwise False.\n",
        "    \"\"\"\n",
        "\n",
        "    # m: Check if n is within the given range\n",
        "    if n >= low and n <= high:\n",
        "        return True\n",
        "\n",
        "    return False\n",
        "\n",
        "# Function call to check the output\n",
        "print(in_range(5, 1, 10))  # Expected output: True\n",
        "print(in_range(15, 1, 10)) # Expected output: False\n",
        "\n"
      ]
    }
  ]
}